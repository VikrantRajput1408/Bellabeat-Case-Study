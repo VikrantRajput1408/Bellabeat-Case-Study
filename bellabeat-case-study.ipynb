{
 "cells": [
  {
   "attachments": {},
   "cell_type": "markdown",
   "id": "77d5b619",
   "metadata": {
    "papermill": {
     "duration": 0.02326,
     "end_time": "2022-09-24T10:38:44.801105",
     "exception": false,
     "start_time": "2022-09-24T10:38:44.777845",
     "status": "completed"
    },
    "tags": []
   },
   "source": [
    "![bellabeat case study.png](Bellabeat-logo.jpeg)\n",
    "\n",
    "## **<span style=\"color:#fe8a78\">INTRODUCTION</span>**\n",
    "\n",
    "Bellabeat is a high-tech manufacturer of health-focused products for women such as `Bellabeat app`, `Leaf`, `Time`, `Spring`, and `Bellabeat membership`. It was founded in 2013 by `Urška Sršen` and `Sando Mur`. The company is quite successful, with lots of potential to become a larger player in the global smart device industry. The founders are of the view that analyzing smart device fitness data could help unlock new growth opportunities for the company.\n",
    "\n",
    "In this case study, I will follow the six steps of the data analysis process: **ask**, **prepare**, **process**, **analyze**, **share**, and **act**, to break down how I analyzed the FitBit fitness Tracker Data in order to gain some insights that could be beneficial to Bellabeat.\n",
    "\n",
    "## **<span style=\"color:#fe8a78\">1. ASK</span>**\n",
    "\n",
    "<h4 style=\"background-color:#fe8a78;color:white;border-radius: 8px; padding:12px\">1.1. KEY STAKEHOLDERS</h4>\n",
    "\n",
    "1.\t**Urška Sršen**: Cofounder and Chief Creative Officer at Bellabeat.\n",
    "2.\t**Sando Mur**: Cofounder and key member of the Bellabeat executive team. \n",
    "3.\t**Marketing analytics team at Bellabeat**: A team of data analysts responsible for collecting, analyzing, and reporting data that helps guide Bellabeat’s marketing strategy.\n",
    "4.\t**Customers**: Everyone who purchases their product or use Bellabeat’s services. \n",
    "\n",
    "<h4 style=\"background-color:#fe8a78;color:white;border-radius: 8px; padding:12px\">1.2. BUSINESS TASK</h4>\n",
    "\n",
    "1.\tTo analyze FitBit Fitness Tracker Data from thirty eligible FitBit users, in order to gain some insights that could unlock new growth opportunities for the company. \n",
    "2.\tTo focus on one of Bellabeat’s products and analyze smart device data to gain insight into how customers are using their smart devices. <br>For this case study, I will focus on the **Bellabeat membership program**. This is a subscription-based membership program that gives users 24/7 access to fully personalized guidance on nutrition, activity, sleep, health and beauty, and mindfulness based on their lifestyle and goals.\n",
    "\n",
    "## **<span style=\"color:#fe8a78\">2: PREPARE</span>**\n",
    "\n",
    "<h4 style=\"background-color:#fe8a78;color:white;border-radius: 8px; padding:12px\">2.1. DATA SOURCE</h4>\n",
    "\n",
    "1.\tThe data is a free to use **FitBit** Fitness tracker dataset made available through Mobius. It contains personal fitness tracker data from over thirty FitBit users who have given consent to use their data. \n",
    "2.\tThere are 18 csv files in all, but the datasets I find relevant to the product I want to focus on are daily activity, hourly calories, hourly steps, and sleep day dataset. \n",
    "\n",
    "<h4 style=\"background-color:#fe8a78;color:white;border-radius: 8px; padding:12px\">2.2. SORTING THE DATA</h4>\n",
    "\n",
    "1.\tTo have a quick overview of the data I have chosen, I opened each of them in Google sheets. The first thing I noticed was that the data was organized in a long format. I also noticed that the dailyActivity_merged data contains some metrics that can give us some insights like the total steps taken by the Fitbit users, the active minutes spent, and the calories burned. With that we can establish some correlation between calories burned and the steps taken. The hourly calories and the hourly steps contain info about the activity hour that will help give some insight about calories and the time of the day.\n",
    "2.\tI then created a separate folder on my desktop to store the files, since I was going to use python and jupyter notebook to process the data. \n",
    "\n",
    "<h4 style=\"background-color:#fe8a78;color:white;border-radius: 8px; padding:12px\">2.3. DATA CREDIBILITY</h4>\n",
    "\n",
    "1.\tIn terms of reliability, a general rule of thumb for the Large Enough Sample Condition is that the sample size should be greater than or equal to 30. **[Reference](https://reviews.tn/wiki/why-is-30-a-good-sample-size/)**. Hence, we can say that with 33 FitBit Users, we can derive some good insights that can be generalized.\n",
    "2.\tIn terms of recency, the data is also still current since it’s not older than 10 years.\n",
    "3.\tThe data collected also matches Bellabeat’s products. Hence, some results from the analysis can be applied to Bellabeat’s products.\n",
    "4.\tEven though this is a third-party data, the quality of the data is not questionable. The source is also known.\n",
    "\n",
    "## **<span style=\"color:#fe8a78\">3: PROCESS</span>**\n",
    "\n",
    "<h4 style=\"background-color:#fe8a78;color:white;border-radius: 8px; padding:12px\">3.1. LOADING LIBRARIES</h4>\n",
    "\n",
    "Let's start by loading the libraries we would need for processing and visualizing the data.\n"
   ]
  },
  {
   "cell_type": "code",
   "execution_count": 1,
   "id": "49fa4295",
   "metadata": {
    "execution": {
     "iopub.execute_input": "2022-09-24T10:38:44.847316Z",
     "iopub.status.busy": "2022-09-24T10:38:44.846391Z",
     "iopub.status.idle": "2022-09-24T10:38:45.933814Z",
     "shell.execute_reply": "2022-09-24T10:38:45.932627Z"
    },
    "papermill": {
     "duration": 1.11483,
     "end_time": "2022-09-24T10:38:45.936871",
     "exception": false,
     "start_time": "2022-09-24T10:38:44.822041",
     "status": "completed"
    },
    "tags": []
   },
   "outputs": [],
   "source": [
    "%matplotlib inline\n",
    "import pandas as pd\n",
    "import numpy as np\n",
    "import datetime as dt\n",
    "import matplotlib.pyplot as plt\n",
    "import seaborn as sns\n",
    "import numpy as np"
   ]
  },
  {
   "cell_type": "markdown",
   "id": "5b5c2079",
   "metadata": {
    "papermill": {
     "duration": 0.022236,
     "end_time": "2022-09-24T10:38:45.980162",
     "exception": false,
     "start_time": "2022-09-24T10:38:45.957926",
     "status": "completed"
    },
    "tags": []
   },
   "source": [
    "### <span style=\"color:#fe8a78\">Loading Datasets</span>\n",
    "\n",
    "Next, we'll load the fitbit datasets we're interested in exploring for insights."
   ]
  },
  {
   "cell_type": "code",
   "execution_count": 2,
   "id": "a456b6bd",
   "metadata": {
    "execution": {
     "iopub.execute_input": "2022-09-24T10:38:46.024618Z",
     "iopub.status.busy": "2022-09-24T10:38:46.023770Z",
     "iopub.status.idle": "2022-09-24T10:38:49.344067Z",
     "shell.execute_reply": "2022-09-24T10:38:49.342805Z"
    },
    "papermill": {
     "duration": 3.34579,
     "end_time": "2022-09-24T10:38:49.347202",
     "exception": false,
     "start_time": "2022-09-24T10:38:46.001412",
     "status": "completed"
    },
    "tags": []
   },
   "outputs": [],
   "source": [
    "daily_activity = pd.read_csv('Fitabase Data/dailyActivity_merged.csv')\n",
    "hourly_steps = pd.read_csv('Fitabase Data/hourlySteps_merged.csv')\n",
    "hourly_calories = pd.read_csv('Fitabase Data/hourlyCalories_merged.csv')\n",
    "sleepday = pd.read_csv('Fitabase Data/sleepDay_merged.csv')\n",
    "daily_calories = pd.read_csv('Fitabase Data/dailyCalories_merged.csv')\n",
    "daily_intensity = pd.read_csv('Fitabase Data/dailyCalories_merged.csv')\n",
    "weight_log = pd.read_csv('Fitabase Data/weightLogInfo_merged.csv')\n",
    "daily_steps = pd.read_csv('Fitabase Data/dailySteps_merged.csv')\n",
    "heartrate_secs = pd.read_csv(\"Fitabase Data/heartrate_seconds_merged.csv\")"
   ]
  },
  {
   "cell_type": "markdown",
   "id": "5f6cf62b",
   "metadata": {
    "papermill": {
     "duration": 0.020449,
     "end_time": "2022-09-24T10:38:49.388602",
     "exception": false,
     "start_time": "2022-09-24T10:38:49.368153",
     "status": "completed"
    },
    "tags": []
   },
   "source": [
    "<h4 style=\"background-color:#fe8a78;color:white;border-radius: 8px; padding:12px\">3.2. DATA EXPLORATION</h4>\n",
    "\n",
    "Let's explore our data by viewing some statistical information about them.\n",
    "\n",
    "We'll start by pulling the first 5 rows of each dataset."
   ]
  },
  {
   "cell_type": "code",
   "execution_count": 3,
   "id": "ddbe7a98",
   "metadata": {
    "execution": {
     "iopub.execute_input": "2022-09-24T10:38:49.432704Z",
     "iopub.status.busy": "2022-09-24T10:38:49.431872Z",
     "iopub.status.idle": "2022-09-24T10:38:49.460720Z",
     "shell.execute_reply": "2022-09-24T10:38:49.459519Z"
    },
    "papermill": {
     "duration": 0.054599,
     "end_time": "2022-09-24T10:38:49.464032",
     "exception": false,
     "start_time": "2022-09-24T10:38:49.409433",
     "status": "completed"
    },
    "scrolled": true,
    "tags": []
   },
   "outputs": [
    {
     "data": {
      "text/html": [
       "<div>\n",
       "<style scoped>\n",
       "    .dataframe tbody tr th:only-of-type {\n",
       "        vertical-align: middle;\n",
       "    }\n",
       "\n",
       "    .dataframe tbody tr th {\n",
       "        vertical-align: top;\n",
       "    }\n",
       "\n",
       "    .dataframe thead th {\n",
       "        text-align: right;\n",
       "    }\n",
       "</style>\n",
       "<table border=\"1\" class=\"dataframe\">\n",
       "  <thead>\n",
       "    <tr style=\"text-align: right;\">\n",
       "      <th></th>\n",
       "      <th>Id</th>\n",
       "      <th>ActivityDate</th>\n",
       "      <th>TotalSteps</th>\n",
       "      <th>TotalDistance</th>\n",
       "      <th>TrackerDistance</th>\n",
       "      <th>LoggedActivitiesDistance</th>\n",
       "      <th>VeryActiveDistance</th>\n",
       "      <th>ModeratelyActiveDistance</th>\n",
       "      <th>LightActiveDistance</th>\n",
       "      <th>SedentaryActiveDistance</th>\n",
       "      <th>VeryActiveMinutes</th>\n",
       "      <th>FairlyActiveMinutes</th>\n",
       "      <th>LightlyActiveMinutes</th>\n",
       "      <th>SedentaryMinutes</th>\n",
       "      <th>Calories</th>\n",
       "    </tr>\n",
       "  </thead>\n",
       "  <tbody>\n",
       "    <tr>\n",
       "      <th>0</th>\n",
       "      <td>1503960366</td>\n",
       "      <td>4/12/2016</td>\n",
       "      <td>13162</td>\n",
       "      <td>8.50</td>\n",
       "      <td>8.50</td>\n",
       "      <td>0.0</td>\n",
       "      <td>1.88</td>\n",
       "      <td>0.55</td>\n",
       "      <td>6.06</td>\n",
       "      <td>0.0</td>\n",
       "      <td>25</td>\n",
       "      <td>13</td>\n",
       "      <td>328</td>\n",
       "      <td>728</td>\n",
       "      <td>1985</td>\n",
       "    </tr>\n",
       "    <tr>\n",
       "      <th>1</th>\n",
       "      <td>1503960366</td>\n",
       "      <td>4/13/2016</td>\n",
       "      <td>10735</td>\n",
       "      <td>6.97</td>\n",
       "      <td>6.97</td>\n",
       "      <td>0.0</td>\n",
       "      <td>1.57</td>\n",
       "      <td>0.69</td>\n",
       "      <td>4.71</td>\n",
       "      <td>0.0</td>\n",
       "      <td>21</td>\n",
       "      <td>19</td>\n",
       "      <td>217</td>\n",
       "      <td>776</td>\n",
       "      <td>1797</td>\n",
       "    </tr>\n",
       "    <tr>\n",
       "      <th>2</th>\n",
       "      <td>1503960366</td>\n",
       "      <td>4/14/2016</td>\n",
       "      <td>10460</td>\n",
       "      <td>6.74</td>\n",
       "      <td>6.74</td>\n",
       "      <td>0.0</td>\n",
       "      <td>2.44</td>\n",
       "      <td>0.40</td>\n",
       "      <td>3.91</td>\n",
       "      <td>0.0</td>\n",
       "      <td>30</td>\n",
       "      <td>11</td>\n",
       "      <td>181</td>\n",
       "      <td>1218</td>\n",
       "      <td>1776</td>\n",
       "    </tr>\n",
       "    <tr>\n",
       "      <th>3</th>\n",
       "      <td>1503960366</td>\n",
       "      <td>4/15/2016</td>\n",
       "      <td>9762</td>\n",
       "      <td>6.28</td>\n",
       "      <td>6.28</td>\n",
       "      <td>0.0</td>\n",
       "      <td>2.14</td>\n",
       "      <td>1.26</td>\n",
       "      <td>2.83</td>\n",
       "      <td>0.0</td>\n",
       "      <td>29</td>\n",
       "      <td>34</td>\n",
       "      <td>209</td>\n",
       "      <td>726</td>\n",
       "      <td>1745</td>\n",
       "    </tr>\n",
       "    <tr>\n",
       "      <th>4</th>\n",
       "      <td>1503960366</td>\n",
       "      <td>4/16/2016</td>\n",
       "      <td>12669</td>\n",
       "      <td>8.16</td>\n",
       "      <td>8.16</td>\n",
       "      <td>0.0</td>\n",
       "      <td>2.71</td>\n",
       "      <td>0.41</td>\n",
       "      <td>5.04</td>\n",
       "      <td>0.0</td>\n",
       "      <td>36</td>\n",
       "      <td>10</td>\n",
       "      <td>221</td>\n",
       "      <td>773</td>\n",
       "      <td>1863</td>\n",
       "    </tr>\n",
       "  </tbody>\n",
       "</table>\n",
       "</div>"
      ],
      "text/plain": [
       "           Id ActivityDate  TotalSteps  TotalDistance  TrackerDistance  \\\n",
       "0  1503960366    4/12/2016       13162           8.50             8.50   \n",
       "1  1503960366    4/13/2016       10735           6.97             6.97   \n",
       "2  1503960366    4/14/2016       10460           6.74             6.74   \n",
       "3  1503960366    4/15/2016        9762           6.28             6.28   \n",
       "4  1503960366    4/16/2016       12669           8.16             8.16   \n",
       "\n",
       "   LoggedActivitiesDistance  VeryActiveDistance  ModeratelyActiveDistance  \\\n",
       "0                       0.0                1.88                      0.55   \n",
       "1                       0.0                1.57                      0.69   \n",
       "2                       0.0                2.44                      0.40   \n",
       "3                       0.0                2.14                      1.26   \n",
       "4                       0.0                2.71                      0.41   \n",
       "\n",
       "   LightActiveDistance  SedentaryActiveDistance  VeryActiveMinutes  \\\n",
       "0                 6.06                      0.0                 25   \n",
       "1                 4.71                      0.0                 21   \n",
       "2                 3.91                      0.0                 30   \n",
       "3                 2.83                      0.0                 29   \n",
       "4                 5.04                      0.0                 36   \n",
       "\n",
       "   FairlyActiveMinutes  LightlyActiveMinutes  SedentaryMinutes  Calories  \n",
       "0                   13                   328               728      1985  \n",
       "1                   19                   217               776      1797  \n",
       "2                   11                   181              1218      1776  \n",
       "3                   34                   209               726      1745  \n",
       "4                   10                   221               773      1863  "
      ]
     },
     "execution_count": 3,
     "metadata": {},
     "output_type": "execute_result"
    }
   ],
   "source": [
    "daily_activity.head()"
   ]
  },
  {
   "cell_type": "code",
   "execution_count": 4,
   "id": "7c1bdfc5",
   "metadata": {
    "execution": {
     "iopub.execute_input": "2022-09-24T10:38:49.509007Z",
     "iopub.status.busy": "2022-09-24T10:38:49.508150Z",
     "iopub.status.idle": "2022-09-24T10:38:49.519719Z",
     "shell.execute_reply": "2022-09-24T10:38:49.518466Z"
    },
    "papermill": {
     "duration": 0.037457,
     "end_time": "2022-09-24T10:38:49.522605",
     "exception": false,
     "start_time": "2022-09-24T10:38:49.485148",
     "status": "completed"
    },
    "scrolled": true,
    "tags": []
   },
   "outputs": [
    {
     "data": {
      "text/html": [
       "<div>\n",
       "<style scoped>\n",
       "    .dataframe tbody tr th:only-of-type {\n",
       "        vertical-align: middle;\n",
       "    }\n",
       "\n",
       "    .dataframe tbody tr th {\n",
       "        vertical-align: top;\n",
       "    }\n",
       "\n",
       "    .dataframe thead th {\n",
       "        text-align: right;\n",
       "    }\n",
       "</style>\n",
       "<table border=\"1\" class=\"dataframe\">\n",
       "  <thead>\n",
       "    <tr style=\"text-align: right;\">\n",
       "      <th></th>\n",
       "      <th>Id</th>\n",
       "      <th>ActivityHour</th>\n",
       "      <th>StepTotal</th>\n",
       "    </tr>\n",
       "  </thead>\n",
       "  <tbody>\n",
       "    <tr>\n",
       "      <th>0</th>\n",
       "      <td>1503960366</td>\n",
       "      <td>4/12/2016 12:00:00 AM</td>\n",
       "      <td>373</td>\n",
       "    </tr>\n",
       "    <tr>\n",
       "      <th>1</th>\n",
       "      <td>1503960366</td>\n",
       "      <td>4/12/2016 1:00:00 AM</td>\n",
       "      <td>160</td>\n",
       "    </tr>\n",
       "    <tr>\n",
       "      <th>2</th>\n",
       "      <td>1503960366</td>\n",
       "      <td>4/12/2016 2:00:00 AM</td>\n",
       "      <td>151</td>\n",
       "    </tr>\n",
       "    <tr>\n",
       "      <th>3</th>\n",
       "      <td>1503960366</td>\n",
       "      <td>4/12/2016 3:00:00 AM</td>\n",
       "      <td>0</td>\n",
       "    </tr>\n",
       "    <tr>\n",
       "      <th>4</th>\n",
       "      <td>1503960366</td>\n",
       "      <td>4/12/2016 4:00:00 AM</td>\n",
       "      <td>0</td>\n",
       "    </tr>\n",
       "  </tbody>\n",
       "</table>\n",
       "</div>"
      ],
      "text/plain": [
       "           Id           ActivityHour  StepTotal\n",
       "0  1503960366  4/12/2016 12:00:00 AM        373\n",
       "1  1503960366   4/12/2016 1:00:00 AM        160\n",
       "2  1503960366   4/12/2016 2:00:00 AM        151\n",
       "3  1503960366   4/12/2016 3:00:00 AM          0\n",
       "4  1503960366   4/12/2016 4:00:00 AM          0"
      ]
     },
     "execution_count": 4,
     "metadata": {},
     "output_type": "execute_result"
    }
   ],
   "source": [
    "hourly_steps.head()"
   ]
  },
  {
   "cell_type": "code",
   "execution_count": 5,
   "id": "095b5efc",
   "metadata": {
    "execution": {
     "iopub.execute_input": "2022-09-24T10:38:49.567620Z",
     "iopub.status.busy": "2022-09-24T10:38:49.566834Z",
     "iopub.status.idle": "2022-09-24T10:38:49.577879Z",
     "shell.execute_reply": "2022-09-24T10:38:49.576694Z"
    },
    "papermill": {
     "duration": 0.036114,
     "end_time": "2022-09-24T10:38:49.580212",
     "exception": false,
     "start_time": "2022-09-24T10:38:49.544098",
     "status": "completed"
    },
    "tags": []
   },
   "outputs": [
    {
     "data": {
      "text/html": [
       "<div>\n",
       "<style scoped>\n",
       "    .dataframe tbody tr th:only-of-type {\n",
       "        vertical-align: middle;\n",
       "    }\n",
       "\n",
       "    .dataframe tbody tr th {\n",
       "        vertical-align: top;\n",
       "    }\n",
       "\n",
       "    .dataframe thead th {\n",
       "        text-align: right;\n",
       "    }\n",
       "</style>\n",
       "<table border=\"1\" class=\"dataframe\">\n",
       "  <thead>\n",
       "    <tr style=\"text-align: right;\">\n",
       "      <th></th>\n",
       "      <th>Id</th>\n",
       "      <th>ActivityHour</th>\n",
       "      <th>Calories</th>\n",
       "    </tr>\n",
       "  </thead>\n",
       "  <tbody>\n",
       "    <tr>\n",
       "      <th>0</th>\n",
       "      <td>1503960366</td>\n",
       "      <td>4/12/2016 12:00:00 AM</td>\n",
       "      <td>81</td>\n",
       "    </tr>\n",
       "    <tr>\n",
       "      <th>1</th>\n",
       "      <td>1503960366</td>\n",
       "      <td>4/12/2016 1:00:00 AM</td>\n",
       "      <td>61</td>\n",
       "    </tr>\n",
       "    <tr>\n",
       "      <th>2</th>\n",
       "      <td>1503960366</td>\n",
       "      <td>4/12/2016 2:00:00 AM</td>\n",
       "      <td>59</td>\n",
       "    </tr>\n",
       "    <tr>\n",
       "      <th>3</th>\n",
       "      <td>1503960366</td>\n",
       "      <td>4/12/2016 3:00:00 AM</td>\n",
       "      <td>47</td>\n",
       "    </tr>\n",
       "    <tr>\n",
       "      <th>4</th>\n",
       "      <td>1503960366</td>\n",
       "      <td>4/12/2016 4:00:00 AM</td>\n",
       "      <td>48</td>\n",
       "    </tr>\n",
       "  </tbody>\n",
       "</table>\n",
       "</div>"
      ],
      "text/plain": [
       "           Id           ActivityHour  Calories\n",
       "0  1503960366  4/12/2016 12:00:00 AM        81\n",
       "1  1503960366   4/12/2016 1:00:00 AM        61\n",
       "2  1503960366   4/12/2016 2:00:00 AM        59\n",
       "3  1503960366   4/12/2016 3:00:00 AM        47\n",
       "4  1503960366   4/12/2016 4:00:00 AM        48"
      ]
     },
     "execution_count": 5,
     "metadata": {},
     "output_type": "execute_result"
    }
   ],
   "source": [
    "hourly_calories.head()"
   ]
  },
  {
   "cell_type": "code",
   "execution_count": 6,
   "id": "a2dc4b80",
   "metadata": {
    "execution": {
     "iopub.execute_input": "2022-09-24T10:38:49.625336Z",
     "iopub.status.busy": "2022-09-24T10:38:49.624889Z",
     "iopub.status.idle": "2022-09-24T10:38:49.637067Z",
     "shell.execute_reply": "2022-09-24T10:38:49.635912Z"
    },
    "papermill": {
     "duration": 0.037526,
     "end_time": "2022-09-24T10:38:49.639340",
     "exception": false,
     "start_time": "2022-09-24T10:38:49.601814",
     "status": "completed"
    },
    "tags": []
   },
   "outputs": [
    {
     "data": {
      "text/html": [
       "<div>\n",
       "<style scoped>\n",
       "    .dataframe tbody tr th:only-of-type {\n",
       "        vertical-align: middle;\n",
       "    }\n",
       "\n",
       "    .dataframe tbody tr th {\n",
       "        vertical-align: top;\n",
       "    }\n",
       "\n",
       "    .dataframe thead th {\n",
       "        text-align: right;\n",
       "    }\n",
       "</style>\n",
       "<table border=\"1\" class=\"dataframe\">\n",
       "  <thead>\n",
       "    <tr style=\"text-align: right;\">\n",
       "      <th></th>\n",
       "      <th>Id</th>\n",
       "      <th>SleepDay</th>\n",
       "      <th>TotalSleepRecords</th>\n",
       "      <th>TotalMinutesAsleep</th>\n",
       "      <th>TotalTimeInBed</th>\n",
       "    </tr>\n",
       "  </thead>\n",
       "  <tbody>\n",
       "    <tr>\n",
       "      <th>0</th>\n",
       "      <td>1503960366</td>\n",
       "      <td>4/12/2016 12:00:00 AM</td>\n",
       "      <td>1</td>\n",
       "      <td>327</td>\n",
       "      <td>346</td>\n",
       "    </tr>\n",
       "    <tr>\n",
       "      <th>1</th>\n",
       "      <td>1503960366</td>\n",
       "      <td>4/13/2016 12:00:00 AM</td>\n",
       "      <td>2</td>\n",
       "      <td>384</td>\n",
       "      <td>407</td>\n",
       "    </tr>\n",
       "    <tr>\n",
       "      <th>2</th>\n",
       "      <td>1503960366</td>\n",
       "      <td>4/15/2016 12:00:00 AM</td>\n",
       "      <td>1</td>\n",
       "      <td>412</td>\n",
       "      <td>442</td>\n",
       "    </tr>\n",
       "    <tr>\n",
       "      <th>3</th>\n",
       "      <td>1503960366</td>\n",
       "      <td>4/16/2016 12:00:00 AM</td>\n",
       "      <td>2</td>\n",
       "      <td>340</td>\n",
       "      <td>367</td>\n",
       "    </tr>\n",
       "    <tr>\n",
       "      <th>4</th>\n",
       "      <td>1503960366</td>\n",
       "      <td>4/17/2016 12:00:00 AM</td>\n",
       "      <td>1</td>\n",
       "      <td>700</td>\n",
       "      <td>712</td>\n",
       "    </tr>\n",
       "  </tbody>\n",
       "</table>\n",
       "</div>"
      ],
      "text/plain": [
       "           Id               SleepDay  TotalSleepRecords  TotalMinutesAsleep  \\\n",
       "0  1503960366  4/12/2016 12:00:00 AM                  1                 327   \n",
       "1  1503960366  4/13/2016 12:00:00 AM                  2                 384   \n",
       "2  1503960366  4/15/2016 12:00:00 AM                  1                 412   \n",
       "3  1503960366  4/16/2016 12:00:00 AM                  2                 340   \n",
       "4  1503960366  4/17/2016 12:00:00 AM                  1                 700   \n",
       "\n",
       "   TotalTimeInBed  \n",
       "0             346  \n",
       "1             407  \n",
       "2             442  \n",
       "3             367  \n",
       "4             712  "
      ]
     },
     "execution_count": 6,
     "metadata": {},
     "output_type": "execute_result"
    }
   ],
   "source": [
    "sleepday.head()"
   ]
  },
  {
   "cell_type": "code",
   "execution_count": 7,
   "id": "4418646a",
   "metadata": {
    "execution": {
     "iopub.execute_input": "2022-09-24T10:38:49.685981Z",
     "iopub.status.busy": "2022-09-24T10:38:49.685582Z",
     "iopub.status.idle": "2022-09-24T10:38:49.696560Z",
     "shell.execute_reply": "2022-09-24T10:38:49.695469Z"
    },
    "papermill": {
     "duration": 0.037337,
     "end_time": "2022-09-24T10:38:49.698878",
     "exception": false,
     "start_time": "2022-09-24T10:38:49.661541",
     "status": "completed"
    },
    "tags": []
   },
   "outputs": [
    {
     "data": {
      "text/html": [
       "<div>\n",
       "<style scoped>\n",
       "    .dataframe tbody tr th:only-of-type {\n",
       "        vertical-align: middle;\n",
       "    }\n",
       "\n",
       "    .dataframe tbody tr th {\n",
       "        vertical-align: top;\n",
       "    }\n",
       "\n",
       "    .dataframe thead th {\n",
       "        text-align: right;\n",
       "    }\n",
       "</style>\n",
       "<table border=\"1\" class=\"dataframe\">\n",
       "  <thead>\n",
       "    <tr style=\"text-align: right;\">\n",
       "      <th></th>\n",
       "      <th>Id</th>\n",
       "      <th>ActivityDay</th>\n",
       "      <th>Calories</th>\n",
       "    </tr>\n",
       "  </thead>\n",
       "  <tbody>\n",
       "    <tr>\n",
       "      <th>0</th>\n",
       "      <td>1503960366</td>\n",
       "      <td>4/12/2016</td>\n",
       "      <td>1985</td>\n",
       "    </tr>\n",
       "    <tr>\n",
       "      <th>1</th>\n",
       "      <td>1503960366</td>\n",
       "      <td>4/13/2016</td>\n",
       "      <td>1797</td>\n",
       "    </tr>\n",
       "    <tr>\n",
       "      <th>2</th>\n",
       "      <td>1503960366</td>\n",
       "      <td>4/14/2016</td>\n",
       "      <td>1776</td>\n",
       "    </tr>\n",
       "    <tr>\n",
       "      <th>3</th>\n",
       "      <td>1503960366</td>\n",
       "      <td>4/15/2016</td>\n",
       "      <td>1745</td>\n",
       "    </tr>\n",
       "    <tr>\n",
       "      <th>4</th>\n",
       "      <td>1503960366</td>\n",
       "      <td>4/16/2016</td>\n",
       "      <td>1863</td>\n",
       "    </tr>\n",
       "  </tbody>\n",
       "</table>\n",
       "</div>"
      ],
      "text/plain": [
       "           Id ActivityDay  Calories\n",
       "0  1503960366   4/12/2016      1985\n",
       "1  1503960366   4/13/2016      1797\n",
       "2  1503960366   4/14/2016      1776\n",
       "3  1503960366   4/15/2016      1745\n",
       "4  1503960366   4/16/2016      1863"
      ]
     },
     "execution_count": 7,
     "metadata": {},
     "output_type": "execute_result"
    }
   ],
   "source": [
    "daily_calories.head()"
   ]
  },
  {
   "cell_type": "code",
   "execution_count": 8,
   "id": "7f3a5ef2",
   "metadata": {
    "execution": {
     "iopub.execute_input": "2022-09-24T10:38:49.744591Z",
     "iopub.status.busy": "2022-09-24T10:38:49.744168Z",
     "iopub.status.idle": "2022-09-24T10:38:49.755803Z",
     "shell.execute_reply": "2022-09-24T10:38:49.754522Z"
    },
    "papermill": {
     "duration": 0.036932,
     "end_time": "2022-09-24T10:38:49.757891",
     "exception": false,
     "start_time": "2022-09-24T10:38:49.720959",
     "status": "completed"
    },
    "tags": []
   },
   "outputs": [
    {
     "data": {
      "text/html": [
       "<div>\n",
       "<style scoped>\n",
       "    .dataframe tbody tr th:only-of-type {\n",
       "        vertical-align: middle;\n",
       "    }\n",
       "\n",
       "    .dataframe tbody tr th {\n",
       "        vertical-align: top;\n",
       "    }\n",
       "\n",
       "    .dataframe thead th {\n",
       "        text-align: right;\n",
       "    }\n",
       "</style>\n",
       "<table border=\"1\" class=\"dataframe\">\n",
       "  <thead>\n",
       "    <tr style=\"text-align: right;\">\n",
       "      <th></th>\n",
       "      <th>Id</th>\n",
       "      <th>ActivityDay</th>\n",
       "      <th>Calories</th>\n",
       "    </tr>\n",
       "  </thead>\n",
       "  <tbody>\n",
       "    <tr>\n",
       "      <th>0</th>\n",
       "      <td>1503960366</td>\n",
       "      <td>4/12/2016</td>\n",
       "      <td>1985</td>\n",
       "    </tr>\n",
       "    <tr>\n",
       "      <th>1</th>\n",
       "      <td>1503960366</td>\n",
       "      <td>4/13/2016</td>\n",
       "      <td>1797</td>\n",
       "    </tr>\n",
       "    <tr>\n",
       "      <th>2</th>\n",
       "      <td>1503960366</td>\n",
       "      <td>4/14/2016</td>\n",
       "      <td>1776</td>\n",
       "    </tr>\n",
       "    <tr>\n",
       "      <th>3</th>\n",
       "      <td>1503960366</td>\n",
       "      <td>4/15/2016</td>\n",
       "      <td>1745</td>\n",
       "    </tr>\n",
       "    <tr>\n",
       "      <th>4</th>\n",
       "      <td>1503960366</td>\n",
       "      <td>4/16/2016</td>\n",
       "      <td>1863</td>\n",
       "    </tr>\n",
       "  </tbody>\n",
       "</table>\n",
       "</div>"
      ],
      "text/plain": [
       "           Id ActivityDay  Calories\n",
       "0  1503960366   4/12/2016      1985\n",
       "1  1503960366   4/13/2016      1797\n",
       "2  1503960366   4/14/2016      1776\n",
       "3  1503960366   4/15/2016      1745\n",
       "4  1503960366   4/16/2016      1863"
      ]
     },
     "execution_count": 8,
     "metadata": {},
     "output_type": "execute_result"
    }
   ],
   "source": [
    "daily_intensity.head()"
   ]
  },
  {
   "cell_type": "code",
   "execution_count": 9,
   "id": "9960bcd5",
   "metadata": {
    "execution": {
     "iopub.execute_input": "2022-09-24T10:38:49.804801Z",
     "iopub.status.busy": "2022-09-24T10:38:49.803887Z",
     "iopub.status.idle": "2022-09-24T10:38:49.820396Z",
     "shell.execute_reply": "2022-09-24T10:38:49.819100Z"
    },
    "papermill": {
     "duration": 0.042496,
     "end_time": "2022-09-24T10:38:49.822728",
     "exception": false,
     "start_time": "2022-09-24T10:38:49.780232",
     "status": "completed"
    },
    "tags": []
   },
   "outputs": [
    {
     "data": {
      "text/html": [
       "<div>\n",
       "<style scoped>\n",
       "    .dataframe tbody tr th:only-of-type {\n",
       "        vertical-align: middle;\n",
       "    }\n",
       "\n",
       "    .dataframe tbody tr th {\n",
       "        vertical-align: top;\n",
       "    }\n",
       "\n",
       "    .dataframe thead th {\n",
       "        text-align: right;\n",
       "    }\n",
       "</style>\n",
       "<table border=\"1\" class=\"dataframe\">\n",
       "  <thead>\n",
       "    <tr style=\"text-align: right;\">\n",
       "      <th></th>\n",
       "      <th>Id</th>\n",
       "      <th>Date</th>\n",
       "      <th>WeightKg</th>\n",
       "      <th>WeightPounds</th>\n",
       "      <th>Fat</th>\n",
       "      <th>BMI</th>\n",
       "      <th>IsManualReport</th>\n",
       "      <th>LogId</th>\n",
       "    </tr>\n",
       "  </thead>\n",
       "  <tbody>\n",
       "    <tr>\n",
       "      <th>0</th>\n",
       "      <td>1503960366</td>\n",
       "      <td>5/2/2016 11:59:59 PM</td>\n",
       "      <td>52.599998</td>\n",
       "      <td>115.963147</td>\n",
       "      <td>22.0</td>\n",
       "      <td>22.650000</td>\n",
       "      <td>True</td>\n",
       "      <td>1462233599000</td>\n",
       "    </tr>\n",
       "    <tr>\n",
       "      <th>1</th>\n",
       "      <td>1503960366</td>\n",
       "      <td>5/3/2016 11:59:59 PM</td>\n",
       "      <td>52.599998</td>\n",
       "      <td>115.963147</td>\n",
       "      <td>NaN</td>\n",
       "      <td>22.650000</td>\n",
       "      <td>True</td>\n",
       "      <td>1462319999000</td>\n",
       "    </tr>\n",
       "    <tr>\n",
       "      <th>2</th>\n",
       "      <td>1927972279</td>\n",
       "      <td>4/13/2016 1:08:52 AM</td>\n",
       "      <td>133.500000</td>\n",
       "      <td>294.317120</td>\n",
       "      <td>NaN</td>\n",
       "      <td>47.540001</td>\n",
       "      <td>False</td>\n",
       "      <td>1460509732000</td>\n",
       "    </tr>\n",
       "    <tr>\n",
       "      <th>3</th>\n",
       "      <td>2873212765</td>\n",
       "      <td>4/21/2016 11:59:59 PM</td>\n",
       "      <td>56.700001</td>\n",
       "      <td>125.002104</td>\n",
       "      <td>NaN</td>\n",
       "      <td>21.450001</td>\n",
       "      <td>True</td>\n",
       "      <td>1461283199000</td>\n",
       "    </tr>\n",
       "    <tr>\n",
       "      <th>4</th>\n",
       "      <td>2873212765</td>\n",
       "      <td>5/12/2016 11:59:59 PM</td>\n",
       "      <td>57.299999</td>\n",
       "      <td>126.324875</td>\n",
       "      <td>NaN</td>\n",
       "      <td>21.690001</td>\n",
       "      <td>True</td>\n",
       "      <td>1463097599000</td>\n",
       "    </tr>\n",
       "  </tbody>\n",
       "</table>\n",
       "</div>"
      ],
      "text/plain": [
       "           Id                   Date    WeightKg  WeightPounds   Fat  \\\n",
       "0  1503960366   5/2/2016 11:59:59 PM   52.599998    115.963147  22.0   \n",
       "1  1503960366   5/3/2016 11:59:59 PM   52.599998    115.963147   NaN   \n",
       "2  1927972279   4/13/2016 1:08:52 AM  133.500000    294.317120   NaN   \n",
       "3  2873212765  4/21/2016 11:59:59 PM   56.700001    125.002104   NaN   \n",
       "4  2873212765  5/12/2016 11:59:59 PM   57.299999    126.324875   NaN   \n",
       "\n",
       "         BMI  IsManualReport          LogId  \n",
       "0  22.650000            True  1462233599000  \n",
       "1  22.650000            True  1462319999000  \n",
       "2  47.540001           False  1460509732000  \n",
       "3  21.450001            True  1461283199000  \n",
       "4  21.690001            True  1463097599000  "
      ]
     },
     "execution_count": 9,
     "metadata": {},
     "output_type": "execute_result"
    }
   ],
   "source": [
    "weight_log.head()"
   ]
  },
  {
   "cell_type": "code",
   "execution_count": 10,
   "id": "a8786d21",
   "metadata": {
    "execution": {
     "iopub.execute_input": "2022-09-24T10:38:49.869369Z",
     "iopub.status.busy": "2022-09-24T10:38:49.868969Z",
     "iopub.status.idle": "2022-09-24T10:38:49.879599Z",
     "shell.execute_reply": "2022-09-24T10:38:49.878372Z"
    },
    "papermill": {
     "duration": 0.036709,
     "end_time": "2022-09-24T10:38:49.881852",
     "exception": false,
     "start_time": "2022-09-24T10:38:49.845143",
     "status": "completed"
    },
    "tags": []
   },
   "outputs": [
    {
     "data": {
      "text/html": [
       "<div>\n",
       "<style scoped>\n",
       "    .dataframe tbody tr th:only-of-type {\n",
       "        vertical-align: middle;\n",
       "    }\n",
       "\n",
       "    .dataframe tbody tr th {\n",
       "        vertical-align: top;\n",
       "    }\n",
       "\n",
       "    .dataframe thead th {\n",
       "        text-align: right;\n",
       "    }\n",
       "</style>\n",
       "<table border=\"1\" class=\"dataframe\">\n",
       "  <thead>\n",
       "    <tr style=\"text-align: right;\">\n",
       "      <th></th>\n",
       "      <th>Id</th>\n",
       "      <th>ActivityDay</th>\n",
       "      <th>StepTotal</th>\n",
       "    </tr>\n",
       "  </thead>\n",
       "  <tbody>\n",
       "    <tr>\n",
       "      <th>0</th>\n",
       "      <td>1503960366</td>\n",
       "      <td>4/12/2016</td>\n",
       "      <td>13162</td>\n",
       "    </tr>\n",
       "    <tr>\n",
       "      <th>1</th>\n",
       "      <td>1503960366</td>\n",
       "      <td>4/13/2016</td>\n",
       "      <td>10735</td>\n",
       "    </tr>\n",
       "    <tr>\n",
       "      <th>2</th>\n",
       "      <td>1503960366</td>\n",
       "      <td>4/14/2016</td>\n",
       "      <td>10460</td>\n",
       "    </tr>\n",
       "    <tr>\n",
       "      <th>3</th>\n",
       "      <td>1503960366</td>\n",
       "      <td>4/15/2016</td>\n",
       "      <td>9762</td>\n",
       "    </tr>\n",
       "    <tr>\n",
       "      <th>4</th>\n",
       "      <td>1503960366</td>\n",
       "      <td>4/16/2016</td>\n",
       "      <td>12669</td>\n",
       "    </tr>\n",
       "  </tbody>\n",
       "</table>\n",
       "</div>"
      ],
      "text/plain": [
       "           Id ActivityDay  StepTotal\n",
       "0  1503960366   4/12/2016      13162\n",
       "1  1503960366   4/13/2016      10735\n",
       "2  1503960366   4/14/2016      10460\n",
       "3  1503960366   4/15/2016       9762\n",
       "4  1503960366   4/16/2016      12669"
      ]
     },
     "execution_count": 10,
     "metadata": {},
     "output_type": "execute_result"
    }
   ],
   "source": [
    "daily_steps.head()"
   ]
  },
  {
   "cell_type": "code",
   "execution_count": 11,
   "id": "21e86a7f",
   "metadata": {
    "execution": {
     "iopub.execute_input": "2022-09-24T10:38:49.929189Z",
     "iopub.status.busy": "2022-09-24T10:38:49.928410Z",
     "iopub.status.idle": "2022-09-24T10:38:49.939234Z",
     "shell.execute_reply": "2022-09-24T10:38:49.938142Z"
    },
    "papermill": {
     "duration": 0.037333,
     "end_time": "2022-09-24T10:38:49.941783",
     "exception": false,
     "start_time": "2022-09-24T10:38:49.904450",
     "status": "completed"
    },
    "tags": []
   },
   "outputs": [
    {
     "data": {
      "text/html": [
       "<div>\n",
       "<style scoped>\n",
       "    .dataframe tbody tr th:only-of-type {\n",
       "        vertical-align: middle;\n",
       "    }\n",
       "\n",
       "    .dataframe tbody tr th {\n",
       "        vertical-align: top;\n",
       "    }\n",
       "\n",
       "    .dataframe thead th {\n",
       "        text-align: right;\n",
       "    }\n",
       "</style>\n",
       "<table border=\"1\" class=\"dataframe\">\n",
       "  <thead>\n",
       "    <tr style=\"text-align: right;\">\n",
       "      <th></th>\n",
       "      <th>Id</th>\n",
       "      <th>Time</th>\n",
       "      <th>Value</th>\n",
       "    </tr>\n",
       "  </thead>\n",
       "  <tbody>\n",
       "    <tr>\n",
       "      <th>0</th>\n",
       "      <td>2022484408</td>\n",
       "      <td>4/12/2016 7:21:00 AM</td>\n",
       "      <td>97</td>\n",
       "    </tr>\n",
       "    <tr>\n",
       "      <th>1</th>\n",
       "      <td>2022484408</td>\n",
       "      <td>4/12/2016 7:21:05 AM</td>\n",
       "      <td>102</td>\n",
       "    </tr>\n",
       "    <tr>\n",
       "      <th>2</th>\n",
       "      <td>2022484408</td>\n",
       "      <td>4/12/2016 7:21:10 AM</td>\n",
       "      <td>105</td>\n",
       "    </tr>\n",
       "    <tr>\n",
       "      <th>3</th>\n",
       "      <td>2022484408</td>\n",
       "      <td>4/12/2016 7:21:20 AM</td>\n",
       "      <td>103</td>\n",
       "    </tr>\n",
       "    <tr>\n",
       "      <th>4</th>\n",
       "      <td>2022484408</td>\n",
       "      <td>4/12/2016 7:21:25 AM</td>\n",
       "      <td>101</td>\n",
       "    </tr>\n",
       "  </tbody>\n",
       "</table>\n",
       "</div>"
      ],
      "text/plain": [
       "           Id                  Time  Value\n",
       "0  2022484408  4/12/2016 7:21:00 AM     97\n",
       "1  2022484408  4/12/2016 7:21:05 AM    102\n",
       "2  2022484408  4/12/2016 7:21:10 AM    105\n",
       "3  2022484408  4/12/2016 7:21:20 AM    103\n",
       "4  2022484408  4/12/2016 7:21:25 AM    101"
      ]
     },
     "execution_count": 11,
     "metadata": {},
     "output_type": "execute_result"
    }
   ],
   "source": [
    "heartrate_secs.head()"
   ]
  },
  {
   "cell_type": "code",
   "execution_count": 12,
   "id": "6eba346c",
   "metadata": {
    "execution": {
     "iopub.execute_input": "2022-09-24T10:38:49.989285Z",
     "iopub.status.busy": "2022-09-24T10:38:49.988872Z",
     "iopub.status.idle": "2022-09-24T10:38:49.998505Z",
     "shell.execute_reply": "2022-09-24T10:38:49.997360Z"
    },
    "papermill": {
     "duration": 0.036569,
     "end_time": "2022-09-24T10:38:50.001387",
     "exception": false,
     "start_time": "2022-09-24T10:38:49.964818",
     "status": "completed"
    },
    "tags": []
   },
   "outputs": [
    {
     "name": "stdout",
     "output_type": "stream",
     "text": [
      "Daily Activity: Index(['Id', 'ActivityDate', 'TotalSteps', 'TotalDistance', 'TrackerDistance',\n",
      "       'LoggedActivitiesDistance', 'VeryActiveDistance',\n",
      "       'ModeratelyActiveDistance', 'LightActiveDistance',\n",
      "       'SedentaryActiveDistance', 'VeryActiveMinutes', 'FairlyActiveMinutes',\n",
      "       'LightlyActiveMinutes', 'SedentaryMinutes', 'Calories'],\n",
      "      dtype='object')\n",
      "\n",
      "Hourly Steps: Index(['Id', 'ActivityHour', 'StepTotal'], dtype='object')\n",
      "\n",
      "Hourly Calories: Index(['Id', 'ActivityHour', 'Calories'], dtype='object')\n",
      "\n",
      "Sleepday: Index(['Id', 'SleepDay', 'TotalSleepRecords', 'TotalMinutesAsleep',\n",
      "       'TotalTimeInBed'],\n",
      "      dtype='object')\n",
      "\n",
      "Daily Calories: Index(['Id', 'ActivityDay', 'Calories'], dtype='object')\n",
      "\n",
      "Daily Intensity: Index(['Id', 'ActivityDay', 'Calories'], dtype='object')\n",
      "\n",
      "Weight Log: Index(['Id', 'Date', 'WeightKg', 'WeightPounds', 'Fat', 'BMI',\n",
      "       'IsManualReport', 'LogId'],\n",
      "      dtype='object')\n",
      "\n",
      "Daily Steps: Index(['Id', 'ActivityDay', 'StepTotal'], dtype='object')\n",
      "\n",
      "Heart Rate: Index(['Id', 'Time', 'Value'], dtype='object')\n"
     ]
    }
   ],
   "source": [
    "print(\"Daily Activity:\",daily_activity.columns)\n",
    "print()\n",
    "print(\"Hourly Steps:\",hourly_steps.columns)\n",
    "print()\n",
    "print(\"Hourly Calories:\",hourly_calories.columns)\n",
    "print()\n",
    "print(\"Sleepday:\",sleepday.columns)\n",
    "print()\n",
    "print(\"Daily Calories:\",daily_calories.columns)\n",
    "print()\n",
    "print(\"Daily Intensity:\",daily_intensity.columns)\n",
    "print()\n",
    "print(\"Weight Log:\",weight_log.columns)\n",
    "print()\n",
    "print(\"Daily Steps:\",daily_steps.columns)\n",
    "print()\n",
    "print(\"Heart Rate:\",heartrate_secs.columns)"
   ]
  },
  {
   "cell_type": "markdown",
   "id": "f4d2465c",
   "metadata": {
    "papermill": {
     "duration": 0.02241,
     "end_time": "2022-09-24T10:38:50.046695",
     "exception": false,
     "start_time": "2022-09-24T10:38:50.024285",
     "status": "completed"
    },
    "tags": []
   },
   "source": [
    "Next, let's see how many **<span style=\"color:#fe8a78\">unique users</span>** are in each dataset. We'll start with the first 4, and then the last 4."
   ]
  },
  {
   "cell_type": "code",
   "execution_count": 13,
   "id": "12c5321f",
   "metadata": {
    "execution": {
     "iopub.execute_input": "2022-09-24T10:38:50.093931Z",
     "iopub.status.busy": "2022-09-24T10:38:50.093486Z",
     "iopub.status.idle": "2022-09-24T10:38:50.126269Z",
     "shell.execute_reply": "2022-09-24T10:38:50.124498Z"
    },
    "papermill": {
     "duration": 0.059535,
     "end_time": "2022-09-24T10:38:50.129077",
     "exception": false,
     "start_time": "2022-09-24T10:38:50.069542",
     "status": "completed"
    },
    "tags": []
   },
   "outputs": [
    {
     "name": "stdout",
     "output_type": "stream",
     "text": [
      "Daily Activity Dataset: 33 unique users\n",
      "Hourly Steps Dataset: 33 unique users\n",
      "Hourly Calories Dataset: 33 unique users\n",
      "SleepDay Dataset: 24 unique users\n",
      "Daily Calories Dataset: 33 unique users\n",
      "Daily Intensity Dataset: 33 unique users\n",
      "Weight Logged Dataset: 8 unique users\n",
      "Daily Steps Dataset: 33 unique users\n",
      "Heart Rate Dataset: 14 unique users\n"
     ]
    }
   ],
   "source": [
    "print(\"Daily Activity Dataset:\",daily_activity.Id.nunique(), \"unique users\")\n",
    "print(\"Hourly Steps Dataset:\",hourly_steps.Id.nunique(), \"unique users\")\n",
    "print(\"Hourly Calories Dataset:\",hourly_calories.Id.nunique(), \"unique users\")\n",
    "print(\"SleepDay Dataset:\",sleepday.Id.nunique(), \"unique users\")\n",
    "print(\"Daily Calories Dataset:\",daily_calories.Id.nunique(), \"unique users\")  \n",
    "print(\"Daily Intensity Dataset:\",daily_intensity.Id.nunique(), \"unique users\")\n",
    "print(\"Weight Logged Dataset:\",weight_log.Id.nunique(), \"unique users\")\n",
    "print(\"Daily Steps Dataset:\",daily_steps.Id.nunique(), \"unique users\")\n",
    "print(\"Heart Rate Dataset:\",heartrate_secs.Id.nunique(), \"unique users\")"
   ]
  },
  {
   "cell_type": "markdown",
   "id": "7148d93e",
   "metadata": {
    "papermill": {
     "duration": 0.022445,
     "end_time": "2022-09-24T10:38:50.174417",
     "exception": false,
     "start_time": "2022-09-24T10:38:50.151972",
     "status": "completed"
    },
    "tags": []
   },
   "source": [
    "Let's view the **<span style=\"color:#fe8a78\">data types</span>** in each dataset."
   ]
  },
  {
   "cell_type": "code",
   "execution_count": 14,
   "id": "31a2fc1c",
   "metadata": {
    "execution": {
     "iopub.execute_input": "2022-09-24T10:38:50.221375Z",
     "iopub.status.busy": "2022-09-24T10:38:50.220934Z",
     "iopub.status.idle": "2022-09-24T10:38:50.229836Z",
     "shell.execute_reply": "2022-09-24T10:38:50.228604Z"
    },
    "papermill": {
     "duration": 0.035064,
     "end_time": "2022-09-24T10:38:50.232126",
     "exception": false,
     "start_time": "2022-09-24T10:38:50.197062",
     "status": "completed"
    },
    "tags": []
   },
   "outputs": [
    {
     "data": {
      "text/plain": [
       "Id                            int64\n",
       "ActivityDate                 object\n",
       "TotalSteps                    int64\n",
       "TotalDistance               float64\n",
       "TrackerDistance             float64\n",
       "LoggedActivitiesDistance    float64\n",
       "VeryActiveDistance          float64\n",
       "ModeratelyActiveDistance    float64\n",
       "LightActiveDistance         float64\n",
       "SedentaryActiveDistance     float64\n",
       "VeryActiveMinutes             int64\n",
       "FairlyActiveMinutes           int64\n",
       "LightlyActiveMinutes          int64\n",
       "SedentaryMinutes              int64\n",
       "Calories                      int64\n",
       "dtype: object"
      ]
     },
     "execution_count": 14,
     "metadata": {},
     "output_type": "execute_result"
    }
   ],
   "source": [
    "daily_activity.dtypes"
   ]
  },
  {
   "cell_type": "code",
   "execution_count": 15,
   "id": "3a3b7660",
   "metadata": {
    "execution": {
     "iopub.execute_input": "2022-09-24T10:38:50.279702Z",
     "iopub.status.busy": "2022-09-24T10:38:50.279238Z",
     "iopub.status.idle": "2022-09-24T10:38:50.288038Z",
     "shell.execute_reply": "2022-09-24T10:38:50.286750Z"
    },
    "papermill": {
     "duration": 0.035306,
     "end_time": "2022-09-24T10:38:50.290392",
     "exception": false,
     "start_time": "2022-09-24T10:38:50.255086",
     "status": "completed"
    },
    "tags": []
   },
   "outputs": [
    {
     "data": {
      "text/plain": [
       "Id               int64\n",
       "ActivityHour    object\n",
       "StepTotal        int64\n",
       "dtype: object"
      ]
     },
     "execution_count": 15,
     "metadata": {},
     "output_type": "execute_result"
    }
   ],
   "source": [
    "hourly_steps.dtypes"
   ]
  },
  {
   "cell_type": "code",
   "execution_count": 16,
   "id": "0009bfd3",
   "metadata": {
    "execution": {
     "iopub.execute_input": "2022-09-24T10:38:50.339103Z",
     "iopub.status.busy": "2022-09-24T10:38:50.337963Z",
     "iopub.status.idle": "2022-09-24T10:38:50.346796Z",
     "shell.execute_reply": "2022-09-24T10:38:50.345655Z"
    },
    "papermill": {
     "duration": 0.035618,
     "end_time": "2022-09-24T10:38:50.349074",
     "exception": false,
     "start_time": "2022-09-24T10:38:50.313456",
     "status": "completed"
    },
    "tags": []
   },
   "outputs": [
    {
     "data": {
      "text/plain": [
       "Id               int64\n",
       "ActivityHour    object\n",
       "Calories         int64\n",
       "dtype: object"
      ]
     },
     "execution_count": 16,
     "metadata": {},
     "output_type": "execute_result"
    }
   ],
   "source": [
    "hourly_calories.dtypes"
   ]
  },
  {
   "cell_type": "code",
   "execution_count": 17,
   "id": "f43a37a8",
   "metadata": {
    "execution": {
     "iopub.execute_input": "2022-09-24T10:38:50.398159Z",
     "iopub.status.busy": "2022-09-24T10:38:50.396975Z",
     "iopub.status.idle": "2022-09-24T10:38:50.405796Z",
     "shell.execute_reply": "2022-09-24T10:38:50.404654Z"
    },
    "papermill": {
     "duration": 0.035683,
     "end_time": "2022-09-24T10:38:50.408002",
     "exception": false,
     "start_time": "2022-09-24T10:38:50.372319",
     "status": "completed"
    },
    "tags": []
   },
   "outputs": [
    {
     "data": {
      "text/plain": [
       "Id                     int64\n",
       "SleepDay              object\n",
       "TotalSleepRecords      int64\n",
       "TotalMinutesAsleep     int64\n",
       "TotalTimeInBed         int64\n",
       "dtype: object"
      ]
     },
     "execution_count": 17,
     "metadata": {},
     "output_type": "execute_result"
    }
   ],
   "source": [
    "sleepday.dtypes"
   ]
  },
  {
   "cell_type": "code",
   "execution_count": 18,
   "id": "fee8f9be",
   "metadata": {
    "execution": {
     "iopub.execute_input": "2022-09-24T10:38:50.456901Z",
     "iopub.status.busy": "2022-09-24T10:38:50.455773Z",
     "iopub.status.idle": "2022-09-24T10:38:50.464450Z",
     "shell.execute_reply": "2022-09-24T10:38:50.463472Z"
    },
    "papermill": {
     "duration": 0.035405,
     "end_time": "2022-09-24T10:38:50.466667",
     "exception": false,
     "start_time": "2022-09-24T10:38:50.431262",
     "status": "completed"
    },
    "tags": []
   },
   "outputs": [
    {
     "data": {
      "text/plain": [
       "Id              int64\n",
       "ActivityDay    object\n",
       "Calories        int64\n",
       "dtype: object"
      ]
     },
     "execution_count": 18,
     "metadata": {},
     "output_type": "execute_result"
    }
   ],
   "source": [
    "daily_calories.dtypes"
   ]
  },
  {
   "cell_type": "code",
   "execution_count": 19,
   "id": "a848a8b0",
   "metadata": {
    "execution": {
     "iopub.execute_input": "2022-09-24T10:38:50.515441Z",
     "iopub.status.busy": "2022-09-24T10:38:50.515021Z",
     "iopub.status.idle": "2022-09-24T10:38:50.524056Z",
     "shell.execute_reply": "2022-09-24T10:38:50.522891Z"
    },
    "papermill": {
     "duration": 0.03658,
     "end_time": "2022-09-24T10:38:50.526357",
     "exception": false,
     "start_time": "2022-09-24T10:38:50.489777",
     "status": "completed"
    },
    "tags": []
   },
   "outputs": [
    {
     "data": {
      "text/plain": [
       "Id              int64\n",
       "ActivityDay    object\n",
       "Calories        int64\n",
       "dtype: object"
      ]
     },
     "execution_count": 19,
     "metadata": {},
     "output_type": "execute_result"
    }
   ],
   "source": [
    "daily_intensity.dtypes"
   ]
  },
  {
   "cell_type": "code",
   "execution_count": 20,
   "id": "95159501",
   "metadata": {
    "execution": {
     "iopub.execute_input": "2022-09-24T10:38:50.575910Z",
     "iopub.status.busy": "2022-09-24T10:38:50.575473Z",
     "iopub.status.idle": "2022-09-24T10:38:50.583822Z",
     "shell.execute_reply": "2022-09-24T10:38:50.582631Z"
    },
    "papermill": {
     "duration": 0.035986,
     "end_time": "2022-09-24T10:38:50.586124",
     "exception": false,
     "start_time": "2022-09-24T10:38:50.550138",
     "status": "completed"
    },
    "tags": []
   },
   "outputs": [
    {
     "data": {
      "text/plain": [
       "Id                  int64\n",
       "Date               object\n",
       "WeightKg          float64\n",
       "WeightPounds      float64\n",
       "Fat               float64\n",
       "BMI               float64\n",
       "IsManualReport       bool\n",
       "LogId               int64\n",
       "dtype: object"
      ]
     },
     "execution_count": 20,
     "metadata": {},
     "output_type": "execute_result"
    }
   ],
   "source": [
    "weight_log.dtypes"
   ]
  },
  {
   "cell_type": "code",
   "execution_count": 21,
   "id": "10d24e32",
   "metadata": {
    "execution": {
     "iopub.execute_input": "2022-09-24T10:38:50.635837Z",
     "iopub.status.busy": "2022-09-24T10:38:50.634737Z",
     "iopub.status.idle": "2022-09-24T10:38:50.642465Z",
     "shell.execute_reply": "2022-09-24T10:38:50.641633Z"
    },
    "papermill": {
     "duration": 0.034953,
     "end_time": "2022-09-24T10:38:50.644695",
     "exception": false,
     "start_time": "2022-09-24T10:38:50.609742",
     "status": "completed"
    },
    "tags": []
   },
   "outputs": [
    {
     "data": {
      "text/plain": [
       "Id              int64\n",
       "ActivityDay    object\n",
       "StepTotal       int64\n",
       "dtype: object"
      ]
     },
     "execution_count": 21,
     "metadata": {},
     "output_type": "execute_result"
    }
   ],
   "source": [
    "daily_steps.dtypes"
   ]
  },
  {
   "cell_type": "code",
   "execution_count": 22,
   "id": "5f3a625f",
   "metadata": {
    "execution": {
     "iopub.execute_input": "2022-09-24T10:38:50.695433Z",
     "iopub.status.busy": "2022-09-24T10:38:50.694276Z",
     "iopub.status.idle": "2022-09-24T10:38:50.702043Z",
     "shell.execute_reply": "2022-09-24T10:38:50.701158Z"
    },
    "papermill": {
     "duration": 0.035662,
     "end_time": "2022-09-24T10:38:50.704127",
     "exception": false,
     "start_time": "2022-09-24T10:38:50.668465",
     "status": "completed"
    },
    "tags": []
   },
   "outputs": [
    {
     "data": {
      "text/plain": [
       "Id        int64\n",
       "Time     object\n",
       "Value     int64\n",
       "dtype: object"
      ]
     },
     "execution_count": 22,
     "metadata": {},
     "output_type": "execute_result"
    }
   ],
   "source": [
    "heartrate_secs.dtypes"
   ]
  },
  {
   "cell_type": "markdown",
   "id": "c724c8d6",
   "metadata": {
    "papermill": {
     "duration": 0.023398,
     "end_time": "2022-09-24T10:38:50.751272",
     "exception": false,
     "start_time": "2022-09-24T10:38:50.727874",
     "status": "completed"
    },
    "tags": []
   },
   "source": [
    "Next, let's view their **<span style=\"color:#fe8a78\">shape</span>**"
   ]
  },
  {
   "cell_type": "code",
   "execution_count": 23,
   "id": "47780d29",
   "metadata": {
    "execution": {
     "iopub.execute_input": "2022-09-24T10:38:50.800755Z",
     "iopub.status.busy": "2022-09-24T10:38:50.799963Z",
     "iopub.status.idle": "2022-09-24T10:38:50.807889Z",
     "shell.execute_reply": "2022-09-24T10:38:50.806582Z"
    },
    "papermill": {
     "duration": 0.035258,
     "end_time": "2022-09-24T10:38:50.810279",
     "exception": false,
     "start_time": "2022-09-24T10:38:50.775021",
     "status": "completed"
    },
    "tags": []
   },
   "outputs": [
    {
     "name": "stdout",
     "output_type": "stream",
     "text": [
      "Shape of Daily Activity: (940, 15)\n",
      "Shape of Hourly Steps: (22099, 3)\n",
      "Shape of Hourly Calories: (22099, 3)\n",
      "Shape of SleepDay: (413, 5)\n",
      "Shape of Daily Calories: (940, 3)\n",
      "Shape of Daily Intensity: (940, 3)\n",
      "Shape of Weight Logged: (67, 8)\n",
      "Shape of Daily Steps: (940, 3)\n",
      "Shape of Heart Rate: (2483658, 3)\n"
     ]
    }
   ],
   "source": [
    "print(\"Shape of Daily Activity:\",daily_activity.shape)\n",
    "print(\"Shape of Hourly Steps:\",hourly_steps.shape)\n",
    "print(\"Shape of Hourly Calories:\",hourly_calories.shape)\n",
    "print(\"Shape of SleepDay:\",sleepday.shape)\n",
    "print(\"Shape of Daily Calories:\",daily_calories.shape)  \n",
    "print(\"Shape of Daily Intensity:\",daily_intensity.shape)\n",
    "print(\"Shape of Weight Logged:\",weight_log.shape)\n",
    "print(\"Shape of Daily Steps:\",daily_steps.shape) \n",
    "print(\"Shape of Heart Rate:\",heartrate_secs.shape) "
   ]
  },
  {
   "cell_type": "markdown",
   "id": "9b7686a6",
   "metadata": {
    "papermill": {
     "duration": 0.023696,
     "end_time": "2022-09-24T10:38:50.857815",
     "exception": false,
     "start_time": "2022-09-24T10:38:50.834119",
     "status": "completed"
    },
    "tags": []
   },
   "source": [
    "Next, let's check if we have **<span style=\"color:#fe8a78\">missing values</span>** in our datasets, weight_logged dataset not inclusive."
   ]
  },
  {
   "cell_type": "code",
   "execution_count": 24,
   "id": "b54b1ee3",
   "metadata": {
    "execution": {
     "iopub.execute_input": "2022-09-24T10:38:50.907924Z",
     "iopub.status.busy": "2022-09-24T10:38:50.906803Z",
     "iopub.status.idle": "2022-09-24T10:38:51.045995Z",
     "shell.execute_reply": "2022-09-24T10:38:51.044482Z"
    },
    "papermill": {
     "duration": 0.166978,
     "end_time": "2022-09-24T10:38:51.048634",
     "exception": false,
     "start_time": "2022-09-24T10:38:50.881656",
     "status": "completed"
    },
    "tags": []
   },
   "outputs": [
    {
     "name": "stdout",
     "output_type": "stream",
     "text": [
      "Daily Activity Dataset has 0 missing values\n",
      "Hourly Steps Dataset has 0 missing values\n",
      "Hourly Calories Dataset has 0 missing values\n",
      "SleepDay Dataset has 0 missing values\n",
      "Daily Calories Dataset has 0 missing values\n",
      "Daily Intensity Dataset has 0 missing values\n",
      "Daily Steps Dataset has 0 missing values\n",
      "Heart Rate Dataset has 0 missing values\n"
     ]
    }
   ],
   "source": [
    "print(\"Daily Activity Dataset has\",daily_activity.isnull().values.sum(), \"missing values\")\n",
    "print(\"Hourly Steps Dataset has\",hourly_steps.isnull().values.sum(), \"missing values\")\n",
    "print(\"Hourly Calories Dataset has\",hourly_calories.isnull().values.sum(), \"missing values\")\n",
    "print(\"SleepDay Dataset has\",sleepday.isnull().values.sum(), \"missing values\")\n",
    "print(\"Daily Calories Dataset has\",daily_calories.isnull().values.sum(), \"missing values\")  \n",
    "print(\"Daily Intensity Dataset has\",daily_intensity.isnull().values.sum(), \"missing values\")\n",
    "print(\"Daily Steps Dataset has\",daily_steps.isnull().values.sum(), \"missing values\")\n",
    "print(\"Heart Rate Dataset has\",heartrate_secs.isnull().values.sum(), \"missing values\")"
   ]
  },
  {
   "cell_type": "markdown",
   "id": "ebf7a63e",
   "metadata": {
    "papermill": {
     "duration": 0.024345,
     "end_time": "2022-09-24T10:38:51.098079",
     "exception": false,
     "start_time": "2022-09-24T10:38:51.073734",
     "status": "completed"
    },
    "tags": []
   },
   "source": [
    "Let's also check for duplicates."
   ]
  },
  {
   "cell_type": "code",
   "execution_count": 25,
   "id": "1b869487",
   "metadata": {
    "execution": {
     "iopub.execute_input": "2022-09-24T10:38:51.148143Z",
     "iopub.status.busy": "2022-09-24T10:38:51.147673Z",
     "iopub.status.idle": "2022-09-24T10:38:52.339450Z",
     "shell.execute_reply": "2022-09-24T10:38:52.337894Z"
    },
    "papermill": {
     "duration": 1.221016,
     "end_time": "2022-09-24T10:38:52.343378",
     "exception": false,
     "start_time": "2022-09-24T10:38:51.122362",
     "status": "completed"
    },
    "tags": []
   },
   "outputs": [
    {
     "name": "stdout",
     "output_type": "stream",
     "text": [
      "Duplicates in Daily Acitivity:  0\n",
      "Duplicates in Hourly Steps:  0\n",
      "Duplicates in Hourly Calories:  0\n",
      "Duplicates in Sleepday:  3\n",
      "Duplicates in Daily Calories:  0\n",
      "Duplicates in Daily Intensity:  0\n",
      "Duplicates in Daily Steps:  0\n",
      "Duplicates in Heart Rate:  0\n"
     ]
    }
   ],
   "source": [
    "print(\"Duplicates in Daily Acitivity: \", daily_activity.duplicated().sum())\n",
    "print(\"Duplicates in Hourly Steps: \", hourly_steps.duplicated().sum())\n",
    "print(\"Duplicates in Hourly Calories: \", hourly_calories.duplicated().sum())\n",
    "print(\"Duplicates in Sleepday: \", sleepday.duplicated().sum())\n",
    "print(\"Duplicates in Daily Calories: \", daily_calories.duplicated().sum())  \n",
    "print(\"Duplicates in Daily Intensity: \", daily_intensity.duplicated().sum())\n",
    "print(\"Duplicates in Daily Steps: \", daily_steps.duplicated().sum())\n",
    "print(\"Duplicates in Heart Rate: \", heartrate_secs.duplicated().sum())"
   ]
  },
  {
   "cell_type": "markdown",
   "id": "7ecec893",
   "metadata": {
    "papermill": {
     "duration": 0.024172,
     "end_time": "2022-09-24T10:38:52.392522",
     "exception": false,
     "start_time": "2022-09-24T10:38:52.368350",
     "status": "completed"
    },
    "tags": []
   },
   "source": [
    "<h4 style=\"background-color:#fe8a78;color:white;border-radius: 8px; padding:12px\">3.2. SUMMARY OF INITIAL FINDINGS</h4>\n",
    "\n",
    "* Of all the datasets we inspected, `heartrate_secs`, `weight_logged` and `sleepday` fell short of our **n>=30** rule. `heartrate_secs` has **n=14**, and `weight_logged` only has **n=8**, hence we’re going to drop both of them. `sleepday` has **n=24**, which is also quite small. However, we are going to keep it, since we might gain some relevant insights from it.\n",
    "\n",
    "* `daily_calories`, `daily_intensity`, and `daily_steps` all have exactly the same data that is found in the `daily_activity` dataset. **StepTotal** in `daily_intensity` was only changed to **TotalSteps** in `daily_activity` datasets. Other than that, they are the same data. Hence, we’ll discard them. Leaving us with `daily_activity`, `hourly_steps`, `hourly_calories`, and `sleepday datasets`.\n",
    "\n",
    "* From the shape, I observed that `hourly_steps` and `hourly_calories` have similar structures: (22099, 3). Hence, we can decide to merge them for further analysis.\n",
    "\n",
    "* As for the data types, **<span style=\"color:#fe8a78\">\"ActivityDate”</span>** in `daily_activity`, **<span style=\"color:#fe8a78\">“ActivityHour”</span>** in `hourly_steps`, **<span style=\"color:#fe8a78\">“ActivityHour”</span>** in `hourly_calories`, and **<span style=\"color:#fe8a78\">“SleepDay”</span>** in `sleepday` are `objects` instead of `datetime` data type. We’ll have to convert them to `datetime` data type for easy processing.\n",
    "\n",
    "* I also observed that there are **NO** missing values and **3** duplicates only in sleepday datasets, We can ignore that.\n",
    "\n",
    "<h4 style=\"background-color:#fe8a78;color:white;border-radius: 8px; padding:12px\">3.3. DATA TRANSFORMATION</h4>\n",
    "\n",
    "Let's start by converting the **<span style=\"color:#fe8a78\">\"ActivityDate”</span>** in `daily_activity`, **<span style=\"color:#fe8a78\">“ActivityHour”</span>** in `hourly_steps`, **<span style=\"color:#fe8a78\">“ActivityHour”</span>** in `hourly_calories`, and **<span style=\"color:#fe8a78\">“SleepDay”</span>** in `sleepday` to `datetime` data type."
   ]
  },
  {
   "cell_type": "code",
   "execution_count": 26,
   "id": "875d07cf",
   "metadata": {
    "execution": {
     "iopub.execute_input": "2022-09-24T10:38:52.443110Z",
     "iopub.status.busy": "2022-09-24T10:38:52.442275Z",
     "iopub.status.idle": "2022-09-24T10:38:57.920924Z",
     "shell.execute_reply": "2022-09-24T10:38:57.919734Z"
    },
    "papermill": {
     "duration": 5.507221,
     "end_time": "2022-09-24T10:38:57.923981",
     "exception": false,
     "start_time": "2022-09-24T10:38:52.416760",
     "status": "completed"
    },
    "tags": []
   },
   "outputs": [],
   "source": [
    "daily_activity[\"ActivityDate\"] = pd.to_datetime(daily_activity[\"ActivityDate\"])\n",
    "hourly_steps[\"ActivityHour\"] = pd.to_datetime(hourly_calories[\"ActivityHour\"])\n",
    "hourly_calories[\"ActivityHour\"] = pd.to_datetime(hourly_calories[\"ActivityHour\"])\n",
    "sleepday[\"SleepDay\"] = pd.to_datetime(sleepday[\"SleepDay\"])"
   ]
  },
  {
   "cell_type": "markdown",
   "id": "c51daaf5",
   "metadata": {
    "papermill": {
     "duration": 0.025047,
     "end_time": "2022-09-24T10:38:57.973695",
     "exception": false,
     "start_time": "2022-09-24T10:38:57.948648",
     "status": "completed"
    },
    "tags": []
   },
   "source": [
    "**<span style=\"color:#fe8a78\">Let's Check for Changes</span>**"
   ]
  },
  {
   "cell_type": "code",
   "execution_count": 27,
   "id": "9b5eb602",
   "metadata": {
    "execution": {
     "iopub.execute_input": "2022-09-24T10:38:58.024834Z",
     "iopub.status.busy": "2022-09-24T10:38:58.024391Z",
     "iopub.status.idle": "2022-09-24T10:38:58.031767Z",
     "shell.execute_reply": "2022-09-24T10:38:58.030618Z"
    },
    "papermill": {
     "duration": 0.036893,
     "end_time": "2022-09-24T10:38:58.034824",
     "exception": false,
     "start_time": "2022-09-24T10:38:57.997931",
     "status": "completed"
    },
    "tags": []
   },
   "outputs": [
    {
     "name": "stdout",
     "output_type": "stream",
     "text": [
      "Daily Acitivity data type is datetime64[ns] data type\n",
      "Hourly Steps data type is datetime64[ns] data type\n",
      "Hourly Calories data type is datetime64[ns] data type\n",
      "Sleepday data type is datetime64[ns] data type\n"
     ]
    }
   ],
   "source": [
    "print(\"Daily Acitivity data type is\", daily_activity[\"ActivityDate\"].dtypes, \"data type\")\n",
    "print(\"Hourly Steps data type is\", hourly_steps[\"ActivityHour\"].dtypes, \"data type\")\n",
    "print(\"Hourly Calories data type is\", hourly_calories[\"ActivityHour\"].dtypes, \"data type\")\n",
    "print(\"Sleepday data type is\", sleepday[\"SleepDay\"].dtypes, \"data type\")"
   ]
  },
  {
   "cell_type": "markdown",
   "id": "a42b1425",
   "metadata": {
    "papermill": {
     "duration": 0.023895,
     "end_time": "2022-09-24T10:38:58.083785",
     "exception": false,
     "start_time": "2022-09-24T10:38:58.059890",
     "status": "completed"
    },
    "tags": []
   },
   "source": [
    "They are now all in the right data types, which is the `datetime` data type.\n",
    "\n",
    "**<span style=\"color:#fe8a78\">Merge hourly_steps with hourly_calories datasets.</span>**"
   ]
  },
  {
   "cell_type": "code",
   "execution_count": 28,
   "id": "8c14576f",
   "metadata": {
    "execution": {
     "iopub.execute_input": "2022-09-24T10:38:58.134340Z",
     "iopub.status.busy": "2022-09-24T10:38:58.133559Z",
     "iopub.status.idle": "2022-09-24T10:38:58.140651Z",
     "shell.execute_reply": "2022-09-24T10:38:58.139215Z"
    },
    "papermill": {
     "duration": 0.035105,
     "end_time": "2022-09-24T10:38:58.143155",
     "exception": false,
     "start_time": "2022-09-24T10:38:58.108050",
     "status": "completed"
    },
    "tags": []
   },
   "outputs": [
    {
     "name": "stdout",
     "output_type": "stream",
     "text": [
      "Index(['Id', 'ActivityHour', 'StepTotal'], dtype='object')\n",
      "Index(['Id', 'ActivityHour', 'Calories'], dtype='object')\n"
     ]
    }
   ],
   "source": [
    "for col in hourly_steps.columns, hourly_calories.columns:\n",
    "    print (col)"
   ]
  },
  {
   "cell_type": "markdown",
   "id": "b37a865d",
   "metadata": {
    "papermill": {
     "duration": 0.024427,
     "end_time": "2022-09-24T10:38:58.191842",
     "exception": false,
     "start_time": "2022-09-24T10:38:58.167415",
     "status": "completed"
    },
    "tags": []
   },
   "source": [
    "Above we can see that they both share `Id` and `ActivityHour` in common. Hence, we'll merge them on `Id` and `ActivityHour`."
   ]
  },
  {
   "cell_type": "code",
   "execution_count": 29,
   "id": "b5d1a805",
   "metadata": {
    "execution": {
     "iopub.execute_input": "2022-09-24T10:38:58.243168Z",
     "iopub.status.busy": "2022-09-24T10:38:58.242233Z",
     "iopub.status.idle": "2022-09-24T10:38:58.266465Z",
     "shell.execute_reply": "2022-09-24T10:38:58.265613Z"
    },
    "papermill": {
     "duration": 0.052363,
     "end_time": "2022-09-24T10:38:58.268735",
     "exception": false,
     "start_time": "2022-09-24T10:38:58.216372",
     "status": "completed"
    },
    "tags": []
   },
   "outputs": [
    {
     "data": {
      "text/html": [
       "<div>\n",
       "<style scoped>\n",
       "    .dataframe tbody tr th:only-of-type {\n",
       "        vertical-align: middle;\n",
       "    }\n",
       "\n",
       "    .dataframe tbody tr th {\n",
       "        vertical-align: top;\n",
       "    }\n",
       "\n",
       "    .dataframe thead th {\n",
       "        text-align: right;\n",
       "    }\n",
       "</style>\n",
       "<table border=\"1\" class=\"dataframe\">\n",
       "  <thead>\n",
       "    <tr style=\"text-align: right;\">\n",
       "      <th></th>\n",
       "      <th>Id</th>\n",
       "      <th>ActivityHour</th>\n",
       "      <th>StepTotal</th>\n",
       "      <th>Calories</th>\n",
       "    </tr>\n",
       "  </thead>\n",
       "  <tbody>\n",
       "    <tr>\n",
       "      <th>0</th>\n",
       "      <td>1503960366</td>\n",
       "      <td>2016-04-12 00:00:00</td>\n",
       "      <td>373</td>\n",
       "      <td>81</td>\n",
       "    </tr>\n",
       "    <tr>\n",
       "      <th>1</th>\n",
       "      <td>1503960366</td>\n",
       "      <td>2016-04-12 01:00:00</td>\n",
       "      <td>160</td>\n",
       "      <td>61</td>\n",
       "    </tr>\n",
       "    <tr>\n",
       "      <th>2</th>\n",
       "      <td>1503960366</td>\n",
       "      <td>2016-04-12 02:00:00</td>\n",
       "      <td>151</td>\n",
       "      <td>59</td>\n",
       "    </tr>\n",
       "    <tr>\n",
       "      <th>3</th>\n",
       "      <td>1503960366</td>\n",
       "      <td>2016-04-12 03:00:00</td>\n",
       "      <td>0</td>\n",
       "      <td>47</td>\n",
       "    </tr>\n",
       "    <tr>\n",
       "      <th>4</th>\n",
       "      <td>1503960366</td>\n",
       "      <td>2016-04-12 04:00:00</td>\n",
       "      <td>0</td>\n",
       "      <td>48</td>\n",
       "    </tr>\n",
       "  </tbody>\n",
       "</table>\n",
       "</div>"
      ],
      "text/plain": [
       "           Id        ActivityHour  StepTotal  Calories\n",
       "0  1503960366 2016-04-12 00:00:00        373        81\n",
       "1  1503960366 2016-04-12 01:00:00        160        61\n",
       "2  1503960366 2016-04-12 02:00:00        151        59\n",
       "3  1503960366 2016-04-12 03:00:00          0        47\n",
       "4  1503960366 2016-04-12 04:00:00          0        48"
      ]
     },
     "execution_count": 29,
     "metadata": {},
     "output_type": "execute_result"
    }
   ],
   "source": [
    "merge_df = pd.merge(hourly_steps, hourly_calories,\n",
    "                    on=['Id', 'ActivityHour'], how='inner')\n",
    "\n",
    "merge_df.head()"
   ]
  },
  {
   "cell_type": "markdown",
   "id": "bcfbdd6c",
   "metadata": {
    "papermill": {
     "duration": 0.024515,
     "end_time": "2022-09-24T10:38:58.318218",
     "exception": false,
     "start_time": "2022-09-24T10:38:58.293703",
     "status": "completed"
    },
    "tags": []
   },
   "source": [
    "Now we have a new dataframe `merge_df`. \n",
    "\n",
    "**<span style=\"color:#fe8a78\">Create new colums</span>**\n",
    "\n",
    "Let's create a new column (WeekDay) from the `ActivityHour` in our new dataset `merged_df`, and `ActivityDate` in `daily_activity`. This will help us see if the days of the week has any bearing on our analysis."
   ]
  },
  {
   "cell_type": "code",
   "execution_count": 30,
   "id": "185beb3e",
   "metadata": {
    "execution": {
     "iopub.execute_input": "2022-09-24T10:38:58.370539Z",
     "iopub.status.busy": "2022-09-24T10:38:58.369742Z",
     "iopub.status.idle": "2022-09-24T10:38:58.385515Z",
     "shell.execute_reply": "2022-09-24T10:38:58.384634Z"
    },
    "papermill": {
     "duration": 0.04467,
     "end_time": "2022-09-24T10:38:58.387894",
     "exception": false,
     "start_time": "2022-09-24T10:38:58.343224",
     "status": "completed"
    },
    "tags": []
   },
   "outputs": [],
   "source": [
    "daily_activity[\"WeekDay\"] = daily_activity[\"ActivityDate\"].dt.day_name()\n",
    "merge_df[\"WeekDay\"] = merge_df[\"ActivityHour\"].dt.day_name()\n",
    "sleepday[\"WeekDay\"] = sleepday[\"SleepDay\"].dt.day_name()"
   ]
  },
  {
   "cell_type": "code",
   "execution_count": 31,
   "id": "777db3eb",
   "metadata": {
    "execution": {
     "iopub.execute_input": "2022-09-24T10:38:58.439249Z",
     "iopub.status.busy": "2022-09-24T10:38:58.438441Z",
     "iopub.status.idle": "2022-09-24T10:38:58.457961Z",
     "shell.execute_reply": "2022-09-24T10:38:58.457086Z"
    },
    "papermill": {
     "duration": 0.047489,
     "end_time": "2022-09-24T10:38:58.460041",
     "exception": false,
     "start_time": "2022-09-24T10:38:58.412552",
     "status": "completed"
    },
    "tags": []
   },
   "outputs": [
    {
     "data": {
      "text/html": [
       "<div>\n",
       "<style scoped>\n",
       "    .dataframe tbody tr th:only-of-type {\n",
       "        vertical-align: middle;\n",
       "    }\n",
       "\n",
       "    .dataframe tbody tr th {\n",
       "        vertical-align: top;\n",
       "    }\n",
       "\n",
       "    .dataframe thead th {\n",
       "        text-align: right;\n",
       "    }\n",
       "</style>\n",
       "<table border=\"1\" class=\"dataframe\">\n",
       "  <thead>\n",
       "    <tr style=\"text-align: right;\">\n",
       "      <th></th>\n",
       "      <th>Id</th>\n",
       "      <th>ActivityDate</th>\n",
       "      <th>TotalSteps</th>\n",
       "      <th>TotalDistance</th>\n",
       "      <th>TrackerDistance</th>\n",
       "      <th>LoggedActivitiesDistance</th>\n",
       "      <th>VeryActiveDistance</th>\n",
       "      <th>ModeratelyActiveDistance</th>\n",
       "      <th>LightActiveDistance</th>\n",
       "      <th>SedentaryActiveDistance</th>\n",
       "      <th>VeryActiveMinutes</th>\n",
       "      <th>FairlyActiveMinutes</th>\n",
       "      <th>LightlyActiveMinutes</th>\n",
       "      <th>SedentaryMinutes</th>\n",
       "      <th>Calories</th>\n",
       "      <th>WeekDay</th>\n",
       "    </tr>\n",
       "  </thead>\n",
       "  <tbody>\n",
       "    <tr>\n",
       "      <th>0</th>\n",
       "      <td>1503960366</td>\n",
       "      <td>2016-04-12</td>\n",
       "      <td>13162</td>\n",
       "      <td>8.50</td>\n",
       "      <td>8.50</td>\n",
       "      <td>0.0</td>\n",
       "      <td>1.88</td>\n",
       "      <td>0.55</td>\n",
       "      <td>6.06</td>\n",
       "      <td>0.0</td>\n",
       "      <td>25</td>\n",
       "      <td>13</td>\n",
       "      <td>328</td>\n",
       "      <td>728</td>\n",
       "      <td>1985</td>\n",
       "      <td>Tuesday</td>\n",
       "    </tr>\n",
       "    <tr>\n",
       "      <th>1</th>\n",
       "      <td>1503960366</td>\n",
       "      <td>2016-04-13</td>\n",
       "      <td>10735</td>\n",
       "      <td>6.97</td>\n",
       "      <td>6.97</td>\n",
       "      <td>0.0</td>\n",
       "      <td>1.57</td>\n",
       "      <td>0.69</td>\n",
       "      <td>4.71</td>\n",
       "      <td>0.0</td>\n",
       "      <td>21</td>\n",
       "      <td>19</td>\n",
       "      <td>217</td>\n",
       "      <td>776</td>\n",
       "      <td>1797</td>\n",
       "      <td>Wednesday</td>\n",
       "    </tr>\n",
       "    <tr>\n",
       "      <th>2</th>\n",
       "      <td>1503960366</td>\n",
       "      <td>2016-04-14</td>\n",
       "      <td>10460</td>\n",
       "      <td>6.74</td>\n",
       "      <td>6.74</td>\n",
       "      <td>0.0</td>\n",
       "      <td>2.44</td>\n",
       "      <td>0.40</td>\n",
       "      <td>3.91</td>\n",
       "      <td>0.0</td>\n",
       "      <td>30</td>\n",
       "      <td>11</td>\n",
       "      <td>181</td>\n",
       "      <td>1218</td>\n",
       "      <td>1776</td>\n",
       "      <td>Thursday</td>\n",
       "    </tr>\n",
       "    <tr>\n",
       "      <th>3</th>\n",
       "      <td>1503960366</td>\n",
       "      <td>2016-04-15</td>\n",
       "      <td>9762</td>\n",
       "      <td>6.28</td>\n",
       "      <td>6.28</td>\n",
       "      <td>0.0</td>\n",
       "      <td>2.14</td>\n",
       "      <td>1.26</td>\n",
       "      <td>2.83</td>\n",
       "      <td>0.0</td>\n",
       "      <td>29</td>\n",
       "      <td>34</td>\n",
       "      <td>209</td>\n",
       "      <td>726</td>\n",
       "      <td>1745</td>\n",
       "      <td>Friday</td>\n",
       "    </tr>\n",
       "    <tr>\n",
       "      <th>4</th>\n",
       "      <td>1503960366</td>\n",
       "      <td>2016-04-16</td>\n",
       "      <td>12669</td>\n",
       "      <td>8.16</td>\n",
       "      <td>8.16</td>\n",
       "      <td>0.0</td>\n",
       "      <td>2.71</td>\n",
       "      <td>0.41</td>\n",
       "      <td>5.04</td>\n",
       "      <td>0.0</td>\n",
       "      <td>36</td>\n",
       "      <td>10</td>\n",
       "      <td>221</td>\n",
       "      <td>773</td>\n",
       "      <td>1863</td>\n",
       "      <td>Saturday</td>\n",
       "    </tr>\n",
       "  </tbody>\n",
       "</table>\n",
       "</div>"
      ],
      "text/plain": [
       "           Id ActivityDate  TotalSteps  TotalDistance  TrackerDistance  \\\n",
       "0  1503960366   2016-04-12       13162           8.50             8.50   \n",
       "1  1503960366   2016-04-13       10735           6.97             6.97   \n",
       "2  1503960366   2016-04-14       10460           6.74             6.74   \n",
       "3  1503960366   2016-04-15        9762           6.28             6.28   \n",
       "4  1503960366   2016-04-16       12669           8.16             8.16   \n",
       "\n",
       "   LoggedActivitiesDistance  VeryActiveDistance  ModeratelyActiveDistance  \\\n",
       "0                       0.0                1.88                      0.55   \n",
       "1                       0.0                1.57                      0.69   \n",
       "2                       0.0                2.44                      0.40   \n",
       "3                       0.0                2.14                      1.26   \n",
       "4                       0.0                2.71                      0.41   \n",
       "\n",
       "   LightActiveDistance  SedentaryActiveDistance  VeryActiveMinutes  \\\n",
       "0                 6.06                      0.0                 25   \n",
       "1                 4.71                      0.0                 21   \n",
       "2                 3.91                      0.0                 30   \n",
       "3                 2.83                      0.0                 29   \n",
       "4                 5.04                      0.0                 36   \n",
       "\n",
       "   FairlyActiveMinutes  LightlyActiveMinutes  SedentaryMinutes  Calories  \\\n",
       "0                   13                   328               728      1985   \n",
       "1                   19                   217               776      1797   \n",
       "2                   11                   181              1218      1776   \n",
       "3                   34                   209               726      1745   \n",
       "4                   10                   221               773      1863   \n",
       "\n",
       "     WeekDay  \n",
       "0    Tuesday  \n",
       "1  Wednesday  \n",
       "2   Thursday  \n",
       "3     Friday  \n",
       "4   Saturday  "
      ]
     },
     "execution_count": 31,
     "metadata": {},
     "output_type": "execute_result"
    }
   ],
   "source": [
    "# View changes\n",
    "daily_activity.head()"
   ]
  },
  {
   "cell_type": "code",
   "execution_count": 32,
   "id": "3af1e96b",
   "metadata": {
    "execution": {
     "iopub.execute_input": "2022-09-24T10:38:58.511852Z",
     "iopub.status.busy": "2022-09-24T10:38:58.511145Z",
     "iopub.status.idle": "2022-09-24T10:38:58.523512Z",
     "shell.execute_reply": "2022-09-24T10:38:58.522316Z"
    },
    "papermill": {
     "duration": 0.041097,
     "end_time": "2022-09-24T10:38:58.525929",
     "exception": false,
     "start_time": "2022-09-24T10:38:58.484832",
     "status": "completed"
    },
    "tags": []
   },
   "outputs": [
    {
     "data": {
      "text/html": [
       "<div>\n",
       "<style scoped>\n",
       "    .dataframe tbody tr th:only-of-type {\n",
       "        vertical-align: middle;\n",
       "    }\n",
       "\n",
       "    .dataframe tbody tr th {\n",
       "        vertical-align: top;\n",
       "    }\n",
       "\n",
       "    .dataframe thead th {\n",
       "        text-align: right;\n",
       "    }\n",
       "</style>\n",
       "<table border=\"1\" class=\"dataframe\">\n",
       "  <thead>\n",
       "    <tr style=\"text-align: right;\">\n",
       "      <th></th>\n",
       "      <th>Id</th>\n",
       "      <th>ActivityHour</th>\n",
       "      <th>StepTotal</th>\n",
       "      <th>Calories</th>\n",
       "      <th>WeekDay</th>\n",
       "    </tr>\n",
       "  </thead>\n",
       "  <tbody>\n",
       "    <tr>\n",
       "      <th>0</th>\n",
       "      <td>1503960366</td>\n",
       "      <td>2016-04-12 00:00:00</td>\n",
       "      <td>373</td>\n",
       "      <td>81</td>\n",
       "      <td>Tuesday</td>\n",
       "    </tr>\n",
       "    <tr>\n",
       "      <th>1</th>\n",
       "      <td>1503960366</td>\n",
       "      <td>2016-04-12 01:00:00</td>\n",
       "      <td>160</td>\n",
       "      <td>61</td>\n",
       "      <td>Tuesday</td>\n",
       "    </tr>\n",
       "    <tr>\n",
       "      <th>2</th>\n",
       "      <td>1503960366</td>\n",
       "      <td>2016-04-12 02:00:00</td>\n",
       "      <td>151</td>\n",
       "      <td>59</td>\n",
       "      <td>Tuesday</td>\n",
       "    </tr>\n",
       "    <tr>\n",
       "      <th>3</th>\n",
       "      <td>1503960366</td>\n",
       "      <td>2016-04-12 03:00:00</td>\n",
       "      <td>0</td>\n",
       "      <td>47</td>\n",
       "      <td>Tuesday</td>\n",
       "    </tr>\n",
       "    <tr>\n",
       "      <th>4</th>\n",
       "      <td>1503960366</td>\n",
       "      <td>2016-04-12 04:00:00</td>\n",
       "      <td>0</td>\n",
       "      <td>48</td>\n",
       "      <td>Tuesday</td>\n",
       "    </tr>\n",
       "  </tbody>\n",
       "</table>\n",
       "</div>"
      ],
      "text/plain": [
       "           Id        ActivityHour  StepTotal  Calories  WeekDay\n",
       "0  1503960366 2016-04-12 00:00:00        373        81  Tuesday\n",
       "1  1503960366 2016-04-12 01:00:00        160        61  Tuesday\n",
       "2  1503960366 2016-04-12 02:00:00        151        59  Tuesday\n",
       "3  1503960366 2016-04-12 03:00:00          0        47  Tuesday\n",
       "4  1503960366 2016-04-12 04:00:00          0        48  Tuesday"
      ]
     },
     "execution_count": 32,
     "metadata": {},
     "output_type": "execute_result"
    }
   ],
   "source": [
    "merge_df.head()"
   ]
  },
  {
   "cell_type": "markdown",
   "id": "f0925c7c",
   "metadata": {
    "papermill": {
     "duration": 0.025188,
     "end_time": "2022-09-24T10:38:58.576398",
     "exception": false,
     "start_time": "2022-09-24T10:38:58.551210",
     "status": "completed"
    },
    "tags": []
   },
   "source": [
    "We still need to make some changes to the merge_df dataframe. We need to extract the `ActivityHour` column, by creating a seaparate column for it. "
   ]
  },
  {
   "cell_type": "code",
   "execution_count": 33,
   "id": "a37ab099",
   "metadata": {
    "execution": {
     "iopub.execute_input": "2022-09-24T10:38:58.629490Z",
     "iopub.status.busy": "2022-09-24T10:38:58.628754Z",
     "iopub.status.idle": "2022-09-24T10:38:58.637078Z",
     "shell.execute_reply": "2022-09-24T10:38:58.636015Z"
    },
    "papermill": {
     "duration": 0.037759,
     "end_time": "2022-09-24T10:38:58.639502",
     "exception": false,
     "start_time": "2022-09-24T10:38:58.601743",
     "status": "completed"
    },
    "tags": []
   },
   "outputs": [],
   "source": [
    "merge_df[\"DateHour\"] = merge_df[\"ActivityHour\"].dt.hour"
   ]
  },
  {
   "cell_type": "code",
   "execution_count": 34,
   "id": "6cd6963f",
   "metadata": {
    "execution": {
     "iopub.execute_input": "2022-09-24T10:38:58.692594Z",
     "iopub.status.busy": "2022-09-24T10:38:58.691813Z",
     "iopub.status.idle": "2022-09-24T10:38:58.704839Z",
     "shell.execute_reply": "2022-09-24T10:38:58.703628Z"
    },
    "papermill": {
     "duration": 0.042569,
     "end_time": "2022-09-24T10:38:58.707280",
     "exception": false,
     "start_time": "2022-09-24T10:38:58.664711",
     "status": "completed"
    },
    "tags": []
   },
   "outputs": [
    {
     "data": {
      "text/html": [
       "<div>\n",
       "<style scoped>\n",
       "    .dataframe tbody tr th:only-of-type {\n",
       "        vertical-align: middle;\n",
       "    }\n",
       "\n",
       "    .dataframe tbody tr th {\n",
       "        vertical-align: top;\n",
       "    }\n",
       "\n",
       "    .dataframe thead th {\n",
       "        text-align: right;\n",
       "    }\n",
       "</style>\n",
       "<table border=\"1\" class=\"dataframe\">\n",
       "  <thead>\n",
       "    <tr style=\"text-align: right;\">\n",
       "      <th></th>\n",
       "      <th>Id</th>\n",
       "      <th>ActivityHour</th>\n",
       "      <th>StepTotal</th>\n",
       "      <th>Calories</th>\n",
       "      <th>WeekDay</th>\n",
       "      <th>DateHour</th>\n",
       "    </tr>\n",
       "  </thead>\n",
       "  <tbody>\n",
       "    <tr>\n",
       "      <th>0</th>\n",
       "      <td>1503960366</td>\n",
       "      <td>2016-04-12 00:00:00</td>\n",
       "      <td>373</td>\n",
       "      <td>81</td>\n",
       "      <td>Tuesday</td>\n",
       "      <td>0</td>\n",
       "    </tr>\n",
       "    <tr>\n",
       "      <th>1</th>\n",
       "      <td>1503960366</td>\n",
       "      <td>2016-04-12 01:00:00</td>\n",
       "      <td>160</td>\n",
       "      <td>61</td>\n",
       "      <td>Tuesday</td>\n",
       "      <td>1</td>\n",
       "    </tr>\n",
       "    <tr>\n",
       "      <th>2</th>\n",
       "      <td>1503960366</td>\n",
       "      <td>2016-04-12 02:00:00</td>\n",
       "      <td>151</td>\n",
       "      <td>59</td>\n",
       "      <td>Tuesday</td>\n",
       "      <td>2</td>\n",
       "    </tr>\n",
       "    <tr>\n",
       "      <th>3</th>\n",
       "      <td>1503960366</td>\n",
       "      <td>2016-04-12 03:00:00</td>\n",
       "      <td>0</td>\n",
       "      <td>47</td>\n",
       "      <td>Tuesday</td>\n",
       "      <td>3</td>\n",
       "    </tr>\n",
       "    <tr>\n",
       "      <th>4</th>\n",
       "      <td>1503960366</td>\n",
       "      <td>2016-04-12 04:00:00</td>\n",
       "      <td>0</td>\n",
       "      <td>48</td>\n",
       "      <td>Tuesday</td>\n",
       "      <td>4</td>\n",
       "    </tr>\n",
       "  </tbody>\n",
       "</table>\n",
       "</div>"
      ],
      "text/plain": [
       "           Id        ActivityHour  StepTotal  Calories  WeekDay  DateHour\n",
       "0  1503960366 2016-04-12 00:00:00        373        81  Tuesday         0\n",
       "1  1503960366 2016-04-12 01:00:00        160        61  Tuesday         1\n",
       "2  1503960366 2016-04-12 02:00:00        151        59  Tuesday         2\n",
       "3  1503960366 2016-04-12 03:00:00          0        47  Tuesday         3\n",
       "4  1503960366 2016-04-12 04:00:00          0        48  Tuesday         4"
      ]
     },
     "execution_count": 34,
     "metadata": {},
     "output_type": "execute_result"
    }
   ],
   "source": [
    "merge_df.head()"
   ]
  },
  {
   "cell_type": "markdown",
   "id": "ca5f664e",
   "metadata": {
    "papermill": {
     "duration": 0.02512,
     "end_time": "2022-09-24T10:38:58.757908",
     "exception": false,
     "start_time": "2022-09-24T10:38:58.732788",
     "status": "completed"
    },
    "tags": []
   },
   "source": [
    "Now that we have our `DateHour`, lets remove the Hour min and sec."
   ]
  },
  {
   "cell_type": "code",
   "execution_count": 35,
   "id": "213b903c",
   "metadata": {
    "execution": {
     "iopub.execute_input": "2022-09-24T10:38:58.810911Z",
     "iopub.status.busy": "2022-09-24T10:38:58.810475Z",
     "iopub.status.idle": "2022-09-24T10:38:58.824000Z",
     "shell.execute_reply": "2022-09-24T10:38:58.822989Z"
    },
    "papermill": {
     "duration": 0.043218,
     "end_time": "2022-09-24T10:38:58.826418",
     "exception": false,
     "start_time": "2022-09-24T10:38:58.783200",
     "status": "completed"
    },
    "tags": []
   },
   "outputs": [],
   "source": [
    "merge_df[\"ActivityDay\"] = merge_df[\"ActivityHour\"].dt.date"
   ]
  },
  {
   "cell_type": "markdown",
   "id": "a057d271",
   "metadata": {
    "papermill": {
     "duration": 0.025314,
     "end_time": "2022-09-24T10:38:58.877285",
     "exception": false,
     "start_time": "2022-09-24T10:38:58.851971",
     "status": "completed"
    },
    "tags": []
   },
   "source": [
    "Now, let's drop `ActivityHour`"
   ]
  },
  {
   "cell_type": "code",
   "execution_count": 36,
   "id": "d73ec8b0",
   "metadata": {
    "execution": {
     "iopub.execute_input": "2022-09-24T10:38:58.930581Z",
     "iopub.status.busy": "2022-09-24T10:38:58.930135Z",
     "iopub.status.idle": "2022-09-24T10:38:58.946049Z",
     "shell.execute_reply": "2022-09-24T10:38:58.944822Z"
    },
    "papermill": {
     "duration": 0.045536,
     "end_time": "2022-09-24T10:38:58.948508",
     "exception": false,
     "start_time": "2022-09-24T10:38:58.902972",
     "status": "completed"
    },
    "tags": []
   },
   "outputs": [
    {
     "data": {
      "text/html": [
       "<div>\n",
       "<style scoped>\n",
       "    .dataframe tbody tr th:only-of-type {\n",
       "        vertical-align: middle;\n",
       "    }\n",
       "\n",
       "    .dataframe tbody tr th {\n",
       "        vertical-align: top;\n",
       "    }\n",
       "\n",
       "    .dataframe thead th {\n",
       "        text-align: right;\n",
       "    }\n",
       "</style>\n",
       "<table border=\"1\" class=\"dataframe\">\n",
       "  <thead>\n",
       "    <tr style=\"text-align: right;\">\n",
       "      <th></th>\n",
       "      <th>Id</th>\n",
       "      <th>StepTotal</th>\n",
       "      <th>Calories</th>\n",
       "      <th>WeekDay</th>\n",
       "      <th>DateHour</th>\n",
       "      <th>ActivityDay</th>\n",
       "    </tr>\n",
       "  </thead>\n",
       "  <tbody>\n",
       "    <tr>\n",
       "      <th>0</th>\n",
       "      <td>1503960366</td>\n",
       "      <td>373</td>\n",
       "      <td>81</td>\n",
       "      <td>Tuesday</td>\n",
       "      <td>0</td>\n",
       "      <td>2016-04-12</td>\n",
       "    </tr>\n",
       "    <tr>\n",
       "      <th>1</th>\n",
       "      <td>1503960366</td>\n",
       "      <td>160</td>\n",
       "      <td>61</td>\n",
       "      <td>Tuesday</td>\n",
       "      <td>1</td>\n",
       "      <td>2016-04-12</td>\n",
       "    </tr>\n",
       "    <tr>\n",
       "      <th>2</th>\n",
       "      <td>1503960366</td>\n",
       "      <td>151</td>\n",
       "      <td>59</td>\n",
       "      <td>Tuesday</td>\n",
       "      <td>2</td>\n",
       "      <td>2016-04-12</td>\n",
       "    </tr>\n",
       "    <tr>\n",
       "      <th>3</th>\n",
       "      <td>1503960366</td>\n",
       "      <td>0</td>\n",
       "      <td>47</td>\n",
       "      <td>Tuesday</td>\n",
       "      <td>3</td>\n",
       "      <td>2016-04-12</td>\n",
       "    </tr>\n",
       "    <tr>\n",
       "      <th>4</th>\n",
       "      <td>1503960366</td>\n",
       "      <td>0</td>\n",
       "      <td>48</td>\n",
       "      <td>Tuesday</td>\n",
       "      <td>4</td>\n",
       "      <td>2016-04-12</td>\n",
       "    </tr>\n",
       "  </tbody>\n",
       "</table>\n",
       "</div>"
      ],
      "text/plain": [
       "           Id  StepTotal  Calories  WeekDay  DateHour ActivityDay\n",
       "0  1503960366        373        81  Tuesday         0  2016-04-12\n",
       "1  1503960366        160        61  Tuesday         1  2016-04-12\n",
       "2  1503960366        151        59  Tuesday         2  2016-04-12\n",
       "3  1503960366          0        47  Tuesday         3  2016-04-12\n",
       "4  1503960366          0        48  Tuesday         4  2016-04-12"
      ]
     },
     "execution_count": 36,
     "metadata": {},
     "output_type": "execute_result"
    }
   ],
   "source": [
    "merge_df = merge_df.drop(\"ActivityHour\", axis = 1)\n",
    "merge_df.head()"
   ]
  },
  {
   "cell_type": "code",
   "execution_count": 37,
   "id": "9d9d88d5",
   "metadata": {
    "execution": {
     "iopub.execute_input": "2022-09-24T10:38:59.002266Z",
     "iopub.status.busy": "2022-09-24T10:38:59.001869Z",
     "iopub.status.idle": "2022-09-24T10:38:59.012601Z",
     "shell.execute_reply": "2022-09-24T10:38:59.011696Z"
    },
    "papermill": {
     "duration": 0.040394,
     "end_time": "2022-09-24T10:38:59.014794",
     "exception": false,
     "start_time": "2022-09-24T10:38:58.974400",
     "status": "completed"
    },
    "tags": []
   },
   "outputs": [],
   "source": [
    "# Let's change ActivityDay to DateTime data type\n",
    "\n",
    "merge_df[\"ActivityDay\"] = pd.to_datetime(merge_df[\"ActivityDay\"])"
   ]
  },
  {
   "cell_type": "markdown",
   "id": "e5ee7205",
   "metadata": {
    "papermill": {
     "duration": 0.025405,
     "end_time": "2022-09-24T10:38:59.065773",
     "exception": false,
     "start_time": "2022-09-24T10:38:59.040368",
     "status": "completed"
    },
    "tags": []
   },
   "source": [
    "Next, we're going to merge `sleepday` with `merge_df` to create a new dataframe that contains sleepday record with calories for some analysis. Hence, before we do, let's change the column name `SleepDay` in sleepday df, so it matches `ActivityDay` in `merge_df`."
   ]
  },
  {
   "cell_type": "code",
   "execution_count": 38,
   "id": "9836f192",
   "metadata": {
    "execution": {
     "iopub.execute_input": "2022-09-24T10:38:59.119429Z",
     "iopub.status.busy": "2022-09-24T10:38:59.119014Z",
     "iopub.status.idle": "2022-09-24T10:38:59.132588Z",
     "shell.execute_reply": "2022-09-24T10:38:59.131340Z"
    },
    "papermill": {
     "duration": 0.043442,
     "end_time": "2022-09-24T10:38:59.134970",
     "exception": false,
     "start_time": "2022-09-24T10:38:59.091528",
     "status": "completed"
    },
    "tags": []
   },
   "outputs": [
    {
     "data": {
      "text/html": [
       "<div>\n",
       "<style scoped>\n",
       "    .dataframe tbody tr th:only-of-type {\n",
       "        vertical-align: middle;\n",
       "    }\n",
       "\n",
       "    .dataframe tbody tr th {\n",
       "        vertical-align: top;\n",
       "    }\n",
       "\n",
       "    .dataframe thead th {\n",
       "        text-align: right;\n",
       "    }\n",
       "</style>\n",
       "<table border=\"1\" class=\"dataframe\">\n",
       "  <thead>\n",
       "    <tr style=\"text-align: right;\">\n",
       "      <th></th>\n",
       "      <th>Id</th>\n",
       "      <th>ActivityDay</th>\n",
       "      <th>TotalSleepRecords</th>\n",
       "      <th>TotalMinutesAsleep</th>\n",
       "      <th>TotalTimeInBed</th>\n",
       "      <th>WeekDay</th>\n",
       "    </tr>\n",
       "  </thead>\n",
       "  <tbody>\n",
       "    <tr>\n",
       "      <th>0</th>\n",
       "      <td>1503960366</td>\n",
       "      <td>2016-04-12</td>\n",
       "      <td>1</td>\n",
       "      <td>327</td>\n",
       "      <td>346</td>\n",
       "      <td>Tuesday</td>\n",
       "    </tr>\n",
       "    <tr>\n",
       "      <th>1</th>\n",
       "      <td>1503960366</td>\n",
       "      <td>2016-04-13</td>\n",
       "      <td>2</td>\n",
       "      <td>384</td>\n",
       "      <td>407</td>\n",
       "      <td>Wednesday</td>\n",
       "    </tr>\n",
       "    <tr>\n",
       "      <th>2</th>\n",
       "      <td>1503960366</td>\n",
       "      <td>2016-04-15</td>\n",
       "      <td>1</td>\n",
       "      <td>412</td>\n",
       "      <td>442</td>\n",
       "      <td>Friday</td>\n",
       "    </tr>\n",
       "    <tr>\n",
       "      <th>3</th>\n",
       "      <td>1503960366</td>\n",
       "      <td>2016-04-16</td>\n",
       "      <td>2</td>\n",
       "      <td>340</td>\n",
       "      <td>367</td>\n",
       "      <td>Saturday</td>\n",
       "    </tr>\n",
       "    <tr>\n",
       "      <th>4</th>\n",
       "      <td>1503960366</td>\n",
       "      <td>2016-04-17</td>\n",
       "      <td>1</td>\n",
       "      <td>700</td>\n",
       "      <td>712</td>\n",
       "      <td>Sunday</td>\n",
       "    </tr>\n",
       "  </tbody>\n",
       "</table>\n",
       "</div>"
      ],
      "text/plain": [
       "           Id ActivityDay  TotalSleepRecords  TotalMinutesAsleep  \\\n",
       "0  1503960366  2016-04-12                  1                 327   \n",
       "1  1503960366  2016-04-13                  2                 384   \n",
       "2  1503960366  2016-04-15                  1                 412   \n",
       "3  1503960366  2016-04-16                  2                 340   \n",
       "4  1503960366  2016-04-17                  1                 700   \n",
       "\n",
       "   TotalTimeInBed    WeekDay  \n",
       "0             346    Tuesday  \n",
       "1             407  Wednesday  \n",
       "2             442     Friday  \n",
       "3             367   Saturday  \n",
       "4             712     Sunday  "
      ]
     },
     "execution_count": 38,
     "metadata": {},
     "output_type": "execute_result"
    }
   ],
   "source": [
    "sleepday = sleepday.rename(columns={'SleepDay': 'ActivityDay'})\n",
    "sleepday.head()"
   ]
  },
  {
   "cell_type": "markdown",
   "id": "d6b53836",
   "metadata": {
    "papermill": {
     "duration": 0.025534,
     "end_time": "2022-09-24T10:38:59.186354",
     "exception": false,
     "start_time": "2022-09-24T10:38:59.160820",
     "status": "completed"
    },
    "tags": []
   },
   "source": [
    "Now, let's merge `sleepday` with `merge_df`. But first, let's see the columns they share in common."
   ]
  },
  {
   "cell_type": "code",
   "execution_count": 39,
   "id": "8721ef38",
   "metadata": {
    "execution": {
     "iopub.execute_input": "2022-09-24T10:38:59.239979Z",
     "iopub.status.busy": "2022-09-24T10:38:59.239529Z",
     "iopub.status.idle": "2022-09-24T10:38:59.246003Z",
     "shell.execute_reply": "2022-09-24T10:38:59.244794Z"
    },
    "papermill": {
     "duration": 0.036005,
     "end_time": "2022-09-24T10:38:59.248362",
     "exception": false,
     "start_time": "2022-09-24T10:38:59.212357",
     "status": "completed"
    },
    "tags": []
   },
   "outputs": [
    {
     "name": "stdout",
     "output_type": "stream",
     "text": [
      "Index(['Id', 'StepTotal', 'Calories', 'WeekDay', 'DateHour', 'ActivityDay'], dtype='object')\n",
      "Index(['Id', 'ActivityDay', 'TotalSleepRecords', 'TotalMinutesAsleep',\n",
      "       'TotalTimeInBed', 'WeekDay'],\n",
      "      dtype='object')\n"
     ]
    }
   ],
   "source": [
    "for col in merge_df.columns, sleepday.columns:\n",
    "    print (col)"
   ]
  },
  {
   "cell_type": "markdown",
   "id": "cb6af9ce",
   "metadata": {
    "papermill": {
     "duration": 0.026299,
     "end_time": "2022-09-24T10:38:59.300812",
     "exception": false,
     "start_time": "2022-09-24T10:38:59.274513",
     "status": "completed"
    },
    "tags": []
   },
   "source": [
    "Since they have `Id`, `ActivityDay` and `WeekDay` in common, we'll merge both dataframes on `Id`, `ActivityDay` and `WeekDay`."
   ]
  },
  {
   "cell_type": "code",
   "execution_count": 40,
   "id": "a6112ec8",
   "metadata": {
    "execution": {
     "iopub.execute_input": "2022-09-24T10:38:59.354992Z",
     "iopub.status.busy": "2022-09-24T10:38:59.353755Z",
     "iopub.status.idle": "2022-09-24T10:38:59.375922Z",
     "shell.execute_reply": "2022-09-24T10:38:59.375005Z"
    },
    "papermill": {
     "duration": 0.051383,
     "end_time": "2022-09-24T10:38:59.378087",
     "exception": false,
     "start_time": "2022-09-24T10:38:59.326704",
     "status": "completed"
    },
    "tags": []
   },
   "outputs": [
    {
     "data": {
      "text/html": [
       "<div>\n",
       "<style scoped>\n",
       "    .dataframe tbody tr th:only-of-type {\n",
       "        vertical-align: middle;\n",
       "    }\n",
       "\n",
       "    .dataframe tbody tr th {\n",
       "        vertical-align: top;\n",
       "    }\n",
       "\n",
       "    .dataframe thead th {\n",
       "        text-align: right;\n",
       "    }\n",
       "</style>\n",
       "<table border=\"1\" class=\"dataframe\">\n",
       "  <thead>\n",
       "    <tr style=\"text-align: right;\">\n",
       "      <th></th>\n",
       "      <th>Id</th>\n",
       "      <th>StepTotal</th>\n",
       "      <th>Calories</th>\n",
       "      <th>WeekDay</th>\n",
       "      <th>DateHour</th>\n",
       "      <th>ActivityDay</th>\n",
       "      <th>TotalSleepRecords</th>\n",
       "      <th>TotalMinutesAsleep</th>\n",
       "      <th>TotalTimeInBed</th>\n",
       "    </tr>\n",
       "  </thead>\n",
       "  <tbody>\n",
       "    <tr>\n",
       "      <th>0</th>\n",
       "      <td>1503960366</td>\n",
       "      <td>373</td>\n",
       "      <td>81</td>\n",
       "      <td>Tuesday</td>\n",
       "      <td>0</td>\n",
       "      <td>2016-04-12</td>\n",
       "      <td>1</td>\n",
       "      <td>327</td>\n",
       "      <td>346</td>\n",
       "    </tr>\n",
       "    <tr>\n",
       "      <th>1</th>\n",
       "      <td>1503960366</td>\n",
       "      <td>160</td>\n",
       "      <td>61</td>\n",
       "      <td>Tuesday</td>\n",
       "      <td>1</td>\n",
       "      <td>2016-04-12</td>\n",
       "      <td>1</td>\n",
       "      <td>327</td>\n",
       "      <td>346</td>\n",
       "    </tr>\n",
       "    <tr>\n",
       "      <th>2</th>\n",
       "      <td>1503960366</td>\n",
       "      <td>151</td>\n",
       "      <td>59</td>\n",
       "      <td>Tuesday</td>\n",
       "      <td>2</td>\n",
       "      <td>2016-04-12</td>\n",
       "      <td>1</td>\n",
       "      <td>327</td>\n",
       "      <td>346</td>\n",
       "    </tr>\n",
       "    <tr>\n",
       "      <th>3</th>\n",
       "      <td>1503960366</td>\n",
       "      <td>0</td>\n",
       "      <td>47</td>\n",
       "      <td>Tuesday</td>\n",
       "      <td>3</td>\n",
       "      <td>2016-04-12</td>\n",
       "      <td>1</td>\n",
       "      <td>327</td>\n",
       "      <td>346</td>\n",
       "    </tr>\n",
       "    <tr>\n",
       "      <th>4</th>\n",
       "      <td>1503960366</td>\n",
       "      <td>0</td>\n",
       "      <td>48</td>\n",
       "      <td>Tuesday</td>\n",
       "      <td>4</td>\n",
       "      <td>2016-04-12</td>\n",
       "      <td>1</td>\n",
       "      <td>327</td>\n",
       "      <td>346</td>\n",
       "    </tr>\n",
       "  </tbody>\n",
       "</table>\n",
       "</div>"
      ],
      "text/plain": [
       "           Id  StepTotal  Calories  WeekDay  DateHour ActivityDay  \\\n",
       "0  1503960366        373        81  Tuesday         0  2016-04-12   \n",
       "1  1503960366        160        61  Tuesday         1  2016-04-12   \n",
       "2  1503960366        151        59  Tuesday         2  2016-04-12   \n",
       "3  1503960366          0        47  Tuesday         3  2016-04-12   \n",
       "4  1503960366          0        48  Tuesday         4  2016-04-12   \n",
       "\n",
       "   TotalSleepRecords  TotalMinutesAsleep  TotalTimeInBed  \n",
       "0                  1                 327             346  \n",
       "1                  1                 327             346  \n",
       "2                  1                 327             346  \n",
       "3                  1                 327             346  \n",
       "4                  1                 327             346  "
      ]
     },
     "execution_count": 40,
     "metadata": {},
     "output_type": "execute_result"
    }
   ],
   "source": [
    "merge_df2 = pd.merge(merge_df, sleepday,\n",
    "                    on=['Id', 'ActivityDay', 'WeekDay'], how='inner')\n",
    "\n",
    "merge_df2.head(5)"
   ]
  },
  {
   "cell_type": "code",
   "execution_count": 41,
   "id": "52edf643",
   "metadata": {
    "execution": {
     "iopub.execute_input": "2022-09-24T10:38:59.432957Z",
     "iopub.status.busy": "2022-09-24T10:38:59.431906Z",
     "iopub.status.idle": "2022-09-24T10:38:59.445682Z",
     "shell.execute_reply": "2022-09-24T10:38:59.444839Z"
    },
    "papermill": {
     "duration": 0.04336,
     "end_time": "2022-09-24T10:38:59.447783",
     "exception": false,
     "start_time": "2022-09-24T10:38:59.404423",
     "status": "completed"
    },
    "tags": []
   },
   "outputs": [
    {
     "data": {
      "text/html": [
       "<div>\n",
       "<style scoped>\n",
       "    .dataframe tbody tr th:only-of-type {\n",
       "        vertical-align: middle;\n",
       "    }\n",
       "\n",
       "    .dataframe tbody tr th {\n",
       "        vertical-align: top;\n",
       "    }\n",
       "\n",
       "    .dataframe thead th {\n",
       "        text-align: right;\n",
       "    }\n",
       "</style>\n",
       "<table border=\"1\" class=\"dataframe\">\n",
       "  <thead>\n",
       "    <tr style=\"text-align: right;\">\n",
       "      <th></th>\n",
       "      <th>Id</th>\n",
       "      <th>StepTotal</th>\n",
       "      <th>Calories</th>\n",
       "      <th>WeekDay</th>\n",
       "      <th>DateHour</th>\n",
       "      <th>ActivityDay</th>\n",
       "      <th>TotalSleepRecords</th>\n",
       "      <th>TotalMinutesAsleep</th>\n",
       "      <th>TotalTimeInBed</th>\n",
       "    </tr>\n",
       "  </thead>\n",
       "  <tbody>\n",
       "    <tr>\n",
       "      <th>9766</th>\n",
       "      <td>8792009665</td>\n",
       "      <td>8</td>\n",
       "      <td>74</td>\n",
       "      <td>Wednesday</td>\n",
       "      <td>19</td>\n",
       "      <td>2016-05-04</td>\n",
       "      <td>1</td>\n",
       "      <td>439</td>\n",
       "      <td>463</td>\n",
       "    </tr>\n",
       "    <tr>\n",
       "      <th>9767</th>\n",
       "      <td>8792009665</td>\n",
       "      <td>132</td>\n",
       "      <td>91</td>\n",
       "      <td>Wednesday</td>\n",
       "      <td>20</td>\n",
       "      <td>2016-05-04</td>\n",
       "      <td>1</td>\n",
       "      <td>439</td>\n",
       "      <td>463</td>\n",
       "    </tr>\n",
       "    <tr>\n",
       "      <th>9768</th>\n",
       "      <td>8792009665</td>\n",
       "      <td>0</td>\n",
       "      <td>71</td>\n",
       "      <td>Wednesday</td>\n",
       "      <td>21</td>\n",
       "      <td>2016-05-04</td>\n",
       "      <td>1</td>\n",
       "      <td>439</td>\n",
       "      <td>463</td>\n",
       "    </tr>\n",
       "    <tr>\n",
       "      <th>9769</th>\n",
       "      <td>8792009665</td>\n",
       "      <td>0</td>\n",
       "      <td>70</td>\n",
       "      <td>Wednesday</td>\n",
       "      <td>22</td>\n",
       "      <td>2016-05-04</td>\n",
       "      <td>1</td>\n",
       "      <td>439</td>\n",
       "      <td>463</td>\n",
       "    </tr>\n",
       "    <tr>\n",
       "      <th>9770</th>\n",
       "      <td>8792009665</td>\n",
       "      <td>0</td>\n",
       "      <td>70</td>\n",
       "      <td>Wednesday</td>\n",
       "      <td>23</td>\n",
       "      <td>2016-05-04</td>\n",
       "      <td>1</td>\n",
       "      <td>439</td>\n",
       "      <td>463</td>\n",
       "    </tr>\n",
       "  </tbody>\n",
       "</table>\n",
       "</div>"
      ],
      "text/plain": [
       "              Id  StepTotal  Calories    WeekDay  DateHour ActivityDay  \\\n",
       "9766  8792009665          8        74  Wednesday        19  2016-05-04   \n",
       "9767  8792009665        132        91  Wednesday        20  2016-05-04   \n",
       "9768  8792009665          0        71  Wednesday        21  2016-05-04   \n",
       "9769  8792009665          0        70  Wednesday        22  2016-05-04   \n",
       "9770  8792009665          0        70  Wednesday        23  2016-05-04   \n",
       "\n",
       "      TotalSleepRecords  TotalMinutesAsleep  TotalTimeInBed  \n",
       "9766                  1                 439             463  \n",
       "9767                  1                 439             463  \n",
       "9768                  1                 439             463  \n",
       "9769                  1                 439             463  \n",
       "9770                  1                 439             463  "
      ]
     },
     "execution_count": 41,
     "metadata": {},
     "output_type": "execute_result"
    }
   ],
   "source": [
    "merge_df2.tail(5)"
   ]
  },
  {
   "cell_type": "markdown",
   "id": "77b82621",
   "metadata": {
    "papermill": {
     "duration": 0.026999,
     "end_time": "2022-09-24T10:38:59.501311",
     "exception": false,
     "start_time": "2022-09-24T10:38:59.474312",
     "status": "completed"
    },
    "tags": []
   },
   "source": [
    "Let's see how many unique users and missing values we have in our new dataframe"
   ]
  },
  {
   "cell_type": "code",
   "execution_count": 42,
   "id": "013e2daa",
   "metadata": {
    "execution": {
     "iopub.execute_input": "2022-09-24T10:38:59.558233Z",
     "iopub.status.busy": "2022-09-24T10:38:59.557241Z",
     "iopub.status.idle": "2022-09-24T10:38:59.565886Z",
     "shell.execute_reply": "2022-09-24T10:38:59.564077Z"
    },
    "papermill": {
     "duration": 0.039654,
     "end_time": "2022-09-24T10:38:59.568358",
     "exception": false,
     "start_time": "2022-09-24T10:38:59.528704",
     "status": "completed"
    },
    "tags": []
   },
   "outputs": [
    {
     "name": "stdout",
     "output_type": "stream",
     "text": [
      "Merge_df2 Dataframe: 24 unique users\n",
      "Merge_df2 DataFrame has 0 missing values\n"
     ]
    }
   ],
   "source": [
    "print(\"Merge_df2 Dataframe:\",merge_df2.Id.nunique(), \"unique users\")\n",
    "print(\"Merge_df2 DataFrame has\",merge_df2.isnull().values.sum(), \"missing values\")"
   ]
  },
  {
   "cell_type": "markdown",
   "id": "30635799",
   "metadata": {
    "papermill": {
     "duration": 0.026247,
     "end_time": "2022-09-24T10:38:59.621507",
     "exception": false,
     "start_time": "2022-09-24T10:38:59.595260",
     "status": "completed"
    },
    "tags": []
   },
   "source": [
    "Great! Let's also make some changes to the daily_activity dataframe. We'll start by creating 2 additional columns (**<span style=\"color:#fe8a78\">TotalActiveMinutes</span>**, **<span style=\"color:#fe8a78\">TotalMinutes</span>**, and **<span style=\"color:#fe8a78\">TotalActiveHours</span>**). Then we'll remove some columns we won't need."
   ]
  },
  {
   "cell_type": "code",
   "execution_count": 43,
   "id": "b051b723",
   "metadata": {
    "execution": {
     "iopub.execute_input": "2022-09-24T10:38:59.678089Z",
     "iopub.status.busy": "2022-09-24T10:38:59.677330Z",
     "iopub.status.idle": "2022-09-24T10:38:59.684705Z",
     "shell.execute_reply": "2022-09-24T10:38:59.683780Z"
    },
    "papermill": {
     "duration": 0.038364,
     "end_time": "2022-09-24T10:38:59.686991",
     "exception": false,
     "start_time": "2022-09-24T10:38:59.648627",
     "status": "completed"
    },
    "tags": []
   },
   "outputs": [],
   "source": [
    "new_cols = [\"Id\", \"ActivityDate\", \n",
    "            \"WeekDay\", \"TotalSteps\", \n",
    "            \"TotalDistance\", \"VeryActiveDistance\", \n",
    "            \"ModeratelyActiveDistance\", \"LightActiveDistance\", \n",
    "            \"SedentaryActiveDistance\", \"VeryActiveMinutes\", \n",
    "            \"FairlyActiveMinutes\", \"LightlyActiveMinutes\", \n",
    "            \"SedentaryMinutes\", \"TotalActiveMinutes\", \n",
    "            \"TotalMinutes\", \"TotalActiveHours\", \"Calories\"]\n",
    "\n",
    "daily_activity = daily_activity.reindex(columns=new_cols)"
   ]
  },
  {
   "cell_type": "code",
   "execution_count": 44,
   "id": "3a81bdb3",
   "metadata": {
    "execution": {
     "iopub.execute_input": "2022-09-24T10:38:59.743066Z",
     "iopub.status.busy": "2022-09-24T10:38:59.742298Z",
     "iopub.status.idle": "2022-09-24T10:38:59.754635Z",
     "shell.execute_reply": "2022-09-24T10:38:59.753537Z"
    },
    "papermill": {
     "duration": 0.042454,
     "end_time": "2022-09-24T10:38:59.756789",
     "exception": false,
     "start_time": "2022-09-24T10:38:59.714335",
     "status": "completed"
    },
    "tags": []
   },
   "outputs": [
    {
     "data": {
      "text/html": [
       "<div>\n",
       "<style scoped>\n",
       "    .dataframe tbody tr th:only-of-type {\n",
       "        vertical-align: middle;\n",
       "    }\n",
       "\n",
       "    .dataframe tbody tr th {\n",
       "        vertical-align: top;\n",
       "    }\n",
       "\n",
       "    .dataframe thead th {\n",
       "        text-align: right;\n",
       "    }\n",
       "</style>\n",
       "<table border=\"1\" class=\"dataframe\">\n",
       "  <thead>\n",
       "    <tr style=\"text-align: right;\">\n",
       "      <th></th>\n",
       "      <th>TotalActiveMinutes</th>\n",
       "      <th>TotalMinutes</th>\n",
       "      <th>TotalActiveHours</th>\n",
       "    </tr>\n",
       "  </thead>\n",
       "  <tbody>\n",
       "    <tr>\n",
       "      <th>0</th>\n",
       "      <td>NaN</td>\n",
       "      <td>NaN</td>\n",
       "      <td>NaN</td>\n",
       "    </tr>\n",
       "    <tr>\n",
       "      <th>1</th>\n",
       "      <td>NaN</td>\n",
       "      <td>NaN</td>\n",
       "      <td>NaN</td>\n",
       "    </tr>\n",
       "    <tr>\n",
       "      <th>2</th>\n",
       "      <td>NaN</td>\n",
       "      <td>NaN</td>\n",
       "      <td>NaN</td>\n",
       "    </tr>\n",
       "    <tr>\n",
       "      <th>3</th>\n",
       "      <td>NaN</td>\n",
       "      <td>NaN</td>\n",
       "      <td>NaN</td>\n",
       "    </tr>\n",
       "    <tr>\n",
       "      <th>4</th>\n",
       "      <td>NaN</td>\n",
       "      <td>NaN</td>\n",
       "      <td>NaN</td>\n",
       "    </tr>\n",
       "  </tbody>\n",
       "</table>\n",
       "</div>"
      ],
      "text/plain": [
       "   TotalActiveMinutes  TotalMinutes  TotalActiveHours\n",
       "0                 NaN           NaN               NaN\n",
       "1                 NaN           NaN               NaN\n",
       "2                 NaN           NaN               NaN\n",
       "3                 NaN           NaN               NaN\n",
       "4                 NaN           NaN               NaN"
      ]
     },
     "execution_count": 44,
     "metadata": {},
     "output_type": "execute_result"
    }
   ],
   "source": [
    "# Let's view the changes.\n",
    "daily_activity[[\"TotalActiveMinutes\",\n",
    "                \"TotalMinutes\", \"TotalActiveHours\"]].head()"
   ]
  },
  {
   "cell_type": "markdown",
   "id": "95d39b32",
   "metadata": {
    "papermill": {
     "duration": 0.026419,
     "end_time": "2022-09-24T10:38:59.809905",
     "exception": false,
     "start_time": "2022-09-24T10:38:59.783486",
     "status": "completed"
    },
    "tags": []
   },
   "source": [
    "Awesome! The **<span style=\"color:#fe8a78\">TotalActiveMinutes</span>** and **<span style=\"color:#fe8a78\">TotalMinutes</span>** columns have been created, but they currently don't have any values since they have not been created. \n",
    "\n",
    "For the **<span style=\"color:#fe8a78\">TotalActiveMinutes</span>**, I will created the values by summing up all the active minutes i.e \n",
    "`VeryActiveMinutes`, `FairlyActiveMinutes`, and `LightActiveMinutes` and for the **<span style=\"color:#fe8a78\">TotalMinutes</span>**, I will sum up the `TotalActiveMinutes` and the `SedentaryMinutes`."
   ]
  },
  {
   "cell_type": "code",
   "execution_count": 45,
   "id": "a21fc729",
   "metadata": {
    "execution": {
     "iopub.execute_input": "2022-09-24T10:38:59.865093Z",
     "iopub.status.busy": "2022-09-24T10:38:59.864651Z",
     "iopub.status.idle": "2022-09-24T10:38:59.872784Z",
     "shell.execute_reply": "2022-09-24T10:38:59.871837Z"
    },
    "papermill": {
     "duration": 0.038316,
     "end_time": "2022-09-24T10:38:59.874853",
     "exception": false,
     "start_time": "2022-09-24T10:38:59.836537",
     "status": "completed"
    },
    "tags": []
   },
   "outputs": [],
   "source": [
    "daily_activity[\"TotalActiveMinutes\"] = daily_activity[\"VeryActiveMinutes\"] + daily_activity[\"FairlyActiveMinutes\"] + daily_activity[\"LightlyActiveMinutes\"]\n",
    "daily_activity[\"TotalMinutes\"] = daily_activity[\"TotalActiveMinutes\"] + daily_activity[\"SedentaryMinutes\"]\n",
    "daily_activity[\"TotalActiveHours\"] = round(daily_activity[\"TotalActiveMinutes\"] / 60)"
   ]
  },
  {
   "cell_type": "code",
   "execution_count": 46,
   "id": "37145586",
   "metadata": {
    "execution": {
     "iopub.execute_input": "2022-09-24T10:38:59.930122Z",
     "iopub.status.busy": "2022-09-24T10:38:59.929676Z",
     "iopub.status.idle": "2022-09-24T10:38:59.942019Z",
     "shell.execute_reply": "2022-09-24T10:38:59.941015Z"
    },
    "papermill": {
     "duration": 0.042383,
     "end_time": "2022-09-24T10:38:59.944120",
     "exception": false,
     "start_time": "2022-09-24T10:38:59.901737",
     "status": "completed"
    },
    "tags": []
   },
   "outputs": [
    {
     "data": {
      "text/html": [
       "<div>\n",
       "<style scoped>\n",
       "    .dataframe tbody tr th:only-of-type {\n",
       "        vertical-align: middle;\n",
       "    }\n",
       "\n",
       "    .dataframe tbody tr th {\n",
       "        vertical-align: top;\n",
       "    }\n",
       "\n",
       "    .dataframe thead th {\n",
       "        text-align: right;\n",
       "    }\n",
       "</style>\n",
       "<table border=\"1\" class=\"dataframe\">\n",
       "  <thead>\n",
       "    <tr style=\"text-align: right;\">\n",
       "      <th></th>\n",
       "      <th>TotalActiveMinutes</th>\n",
       "      <th>TotalMinutes</th>\n",
       "      <th>TotalActiveHours</th>\n",
       "    </tr>\n",
       "  </thead>\n",
       "  <tbody>\n",
       "    <tr>\n",
       "      <th>0</th>\n",
       "      <td>366</td>\n",
       "      <td>1094</td>\n",
       "      <td>6.0</td>\n",
       "    </tr>\n",
       "    <tr>\n",
       "      <th>1</th>\n",
       "      <td>257</td>\n",
       "      <td>1033</td>\n",
       "      <td>4.0</td>\n",
       "    </tr>\n",
       "    <tr>\n",
       "      <th>2</th>\n",
       "      <td>222</td>\n",
       "      <td>1440</td>\n",
       "      <td>4.0</td>\n",
       "    </tr>\n",
       "    <tr>\n",
       "      <th>3</th>\n",
       "      <td>272</td>\n",
       "      <td>998</td>\n",
       "      <td>5.0</td>\n",
       "    </tr>\n",
       "    <tr>\n",
       "      <th>4</th>\n",
       "      <td>267</td>\n",
       "      <td>1040</td>\n",
       "      <td>4.0</td>\n",
       "    </tr>\n",
       "  </tbody>\n",
       "</table>\n",
       "</div>"
      ],
      "text/plain": [
       "   TotalActiveMinutes  TotalMinutes  TotalActiveHours\n",
       "0                 366          1094               6.0\n",
       "1                 257          1033               4.0\n",
       "2                 222          1440               4.0\n",
       "3                 272           998               5.0\n",
       "4                 267          1040               4.0"
      ]
     },
     "execution_count": 46,
     "metadata": {},
     "output_type": "execute_result"
    }
   ],
   "source": [
    "daily_activity[[\"TotalActiveMinutes\", \"TotalMinutes\", \"TotalActiveHours\"]].head()"
   ]
  },
  {
   "cell_type": "code",
   "execution_count": 47,
   "id": "1c374d18",
   "metadata": {
    "execution": {
     "iopub.execute_input": "2022-09-24T10:39:00.000069Z",
     "iopub.status.busy": "2022-09-24T10:38:59.999360Z",
     "iopub.status.idle": "2022-09-24T10:39:00.018771Z",
     "shell.execute_reply": "2022-09-24T10:39:00.017931Z"
    },
    "papermill": {
     "duration": 0.049996,
     "end_time": "2022-09-24T10:39:00.020916",
     "exception": false,
     "start_time": "2022-09-24T10:38:59.970920",
     "status": "completed"
    },
    "tags": []
   },
   "outputs": [
    {
     "data": {
      "text/html": [
       "<div>\n",
       "<style scoped>\n",
       "    .dataframe tbody tr th:only-of-type {\n",
       "        vertical-align: middle;\n",
       "    }\n",
       "\n",
       "    .dataframe tbody tr th {\n",
       "        vertical-align: top;\n",
       "    }\n",
       "\n",
       "    .dataframe thead th {\n",
       "        text-align: right;\n",
       "    }\n",
       "</style>\n",
       "<table border=\"1\" class=\"dataframe\">\n",
       "  <thead>\n",
       "    <tr style=\"text-align: right;\">\n",
       "      <th></th>\n",
       "      <th>Id</th>\n",
       "      <th>ActivityDate</th>\n",
       "      <th>WeekDay</th>\n",
       "      <th>TotalSteps</th>\n",
       "      <th>TotalDistance</th>\n",
       "      <th>VeryActiveDistance</th>\n",
       "      <th>ModeratelyActiveDistance</th>\n",
       "      <th>LightActiveDistance</th>\n",
       "      <th>SedentaryActiveDistance</th>\n",
       "      <th>VeryActiveMinutes</th>\n",
       "      <th>FairlyActiveMinutes</th>\n",
       "      <th>LightlyActiveMinutes</th>\n",
       "      <th>SedentaryMinutes</th>\n",
       "      <th>TotalActiveMinutes</th>\n",
       "      <th>TotalMinutes</th>\n",
       "      <th>TotalActiveHours</th>\n",
       "      <th>Calories</th>\n",
       "    </tr>\n",
       "  </thead>\n",
       "  <tbody>\n",
       "    <tr>\n",
       "      <th>0</th>\n",
       "      <td>1503960366</td>\n",
       "      <td>2016-04-12</td>\n",
       "      <td>Tuesday</td>\n",
       "      <td>13162</td>\n",
       "      <td>8.50</td>\n",
       "      <td>1.88</td>\n",
       "      <td>0.55</td>\n",
       "      <td>6.06</td>\n",
       "      <td>0.0</td>\n",
       "      <td>25</td>\n",
       "      <td>13</td>\n",
       "      <td>328</td>\n",
       "      <td>728</td>\n",
       "      <td>366</td>\n",
       "      <td>1094</td>\n",
       "      <td>6.0</td>\n",
       "      <td>1985</td>\n",
       "    </tr>\n",
       "    <tr>\n",
       "      <th>1</th>\n",
       "      <td>1503960366</td>\n",
       "      <td>2016-04-13</td>\n",
       "      <td>Wednesday</td>\n",
       "      <td>10735</td>\n",
       "      <td>6.97</td>\n",
       "      <td>1.57</td>\n",
       "      <td>0.69</td>\n",
       "      <td>4.71</td>\n",
       "      <td>0.0</td>\n",
       "      <td>21</td>\n",
       "      <td>19</td>\n",
       "      <td>217</td>\n",
       "      <td>776</td>\n",
       "      <td>257</td>\n",
       "      <td>1033</td>\n",
       "      <td>4.0</td>\n",
       "      <td>1797</td>\n",
       "    </tr>\n",
       "    <tr>\n",
       "      <th>2</th>\n",
       "      <td>1503960366</td>\n",
       "      <td>2016-04-14</td>\n",
       "      <td>Thursday</td>\n",
       "      <td>10460</td>\n",
       "      <td>6.74</td>\n",
       "      <td>2.44</td>\n",
       "      <td>0.40</td>\n",
       "      <td>3.91</td>\n",
       "      <td>0.0</td>\n",
       "      <td>30</td>\n",
       "      <td>11</td>\n",
       "      <td>181</td>\n",
       "      <td>1218</td>\n",
       "      <td>222</td>\n",
       "      <td>1440</td>\n",
       "      <td>4.0</td>\n",
       "      <td>1776</td>\n",
       "    </tr>\n",
       "    <tr>\n",
       "      <th>3</th>\n",
       "      <td>1503960366</td>\n",
       "      <td>2016-04-15</td>\n",
       "      <td>Friday</td>\n",
       "      <td>9762</td>\n",
       "      <td>6.28</td>\n",
       "      <td>2.14</td>\n",
       "      <td>1.26</td>\n",
       "      <td>2.83</td>\n",
       "      <td>0.0</td>\n",
       "      <td>29</td>\n",
       "      <td>34</td>\n",
       "      <td>209</td>\n",
       "      <td>726</td>\n",
       "      <td>272</td>\n",
       "      <td>998</td>\n",
       "      <td>5.0</td>\n",
       "      <td>1745</td>\n",
       "    </tr>\n",
       "    <tr>\n",
       "      <th>4</th>\n",
       "      <td>1503960366</td>\n",
       "      <td>2016-04-16</td>\n",
       "      <td>Saturday</td>\n",
       "      <td>12669</td>\n",
       "      <td>8.16</td>\n",
       "      <td>2.71</td>\n",
       "      <td>0.41</td>\n",
       "      <td>5.04</td>\n",
       "      <td>0.0</td>\n",
       "      <td>36</td>\n",
       "      <td>10</td>\n",
       "      <td>221</td>\n",
       "      <td>773</td>\n",
       "      <td>267</td>\n",
       "      <td>1040</td>\n",
       "      <td>4.0</td>\n",
       "      <td>1863</td>\n",
       "    </tr>\n",
       "  </tbody>\n",
       "</table>\n",
       "</div>"
      ],
      "text/plain": [
       "           Id ActivityDate    WeekDay  TotalSteps  TotalDistance  \\\n",
       "0  1503960366   2016-04-12    Tuesday       13162           8.50   \n",
       "1  1503960366   2016-04-13  Wednesday       10735           6.97   \n",
       "2  1503960366   2016-04-14   Thursday       10460           6.74   \n",
       "3  1503960366   2016-04-15     Friday        9762           6.28   \n",
       "4  1503960366   2016-04-16   Saturday       12669           8.16   \n",
       "\n",
       "   VeryActiveDistance  ModeratelyActiveDistance  LightActiveDistance  \\\n",
       "0                1.88                      0.55                 6.06   \n",
       "1                1.57                      0.69                 4.71   \n",
       "2                2.44                      0.40                 3.91   \n",
       "3                2.14                      1.26                 2.83   \n",
       "4                2.71                      0.41                 5.04   \n",
       "\n",
       "   SedentaryActiveDistance  VeryActiveMinutes  FairlyActiveMinutes  \\\n",
       "0                      0.0                 25                   13   \n",
       "1                      0.0                 21                   19   \n",
       "2                      0.0                 30                   11   \n",
       "3                      0.0                 29                   34   \n",
       "4                      0.0                 36                   10   \n",
       "\n",
       "   LightlyActiveMinutes  SedentaryMinutes  TotalActiveMinutes  TotalMinutes  \\\n",
       "0                   328               728                 366          1094   \n",
       "1                   217               776                 257          1033   \n",
       "2                   181              1218                 222          1440   \n",
       "3                   209               726                 272           998   \n",
       "4                   221               773                 267          1040   \n",
       "\n",
       "   TotalActiveHours  Calories  \n",
       "0               6.0      1985  \n",
       "1               4.0      1797  \n",
       "2               4.0      1776  \n",
       "3               5.0      1745  \n",
       "4               4.0      1863  "
      ]
     },
     "execution_count": 47,
     "metadata": {},
     "output_type": "execute_result"
    }
   ],
   "source": [
    "daily_activity.head()"
   ]
  },
  {
   "cell_type": "markdown",
   "id": "eaf0ed30",
   "metadata": {
    "papermill": {
     "duration": 0.026915,
     "end_time": "2022-09-24T10:39:00.075467",
     "exception": false,
     "start_time": "2022-09-24T10:39:00.048552",
     "status": "completed"
    },
    "tags": []
   },
   "source": [
    "## **<span style=\"color:#fe8a78\">4. ANALYZE</span>**\n",
    "Now that our data is processed, it's time to analyze it for insights. We have narrowed down our datasets to 3 dataframes:\n",
    "* `daily_activity`\n",
    "* `merge_df`, and\n",
    "* `merge_df2`\n",
    "\n",
    "So, we're going to draw our insights from these dataframes. Let's start by getting some statistical info about them."
   ]
  },
  {
   "cell_type": "code",
   "execution_count": 48,
   "id": "6de21d9e",
   "metadata": {
    "execution": {
     "iopub.execute_input": "2022-09-24T10:39:00.133384Z",
     "iopub.status.busy": "2022-09-24T10:39:00.132697Z",
     "iopub.status.idle": "2022-09-24T10:39:00.190774Z",
     "shell.execute_reply": "2022-09-24T10:39:00.189762Z"
    },
    "papermill": {
     "duration": 0.090747,
     "end_time": "2022-09-24T10:39:00.193479",
     "exception": false,
     "start_time": "2022-09-24T10:39:00.102732",
     "status": "completed"
    },
    "tags": []
   },
   "outputs": [
    {
     "data": {
      "text/html": [
       "<div>\n",
       "<style scoped>\n",
       "    .dataframe tbody tr th:only-of-type {\n",
       "        vertical-align: middle;\n",
       "    }\n",
       "\n",
       "    .dataframe tbody tr th {\n",
       "        vertical-align: top;\n",
       "    }\n",
       "\n",
       "    .dataframe thead th {\n",
       "        text-align: right;\n",
       "    }\n",
       "</style>\n",
       "<table border=\"1\" class=\"dataframe\">\n",
       "  <thead>\n",
       "    <tr style=\"text-align: right;\">\n",
       "      <th></th>\n",
       "      <th>Id</th>\n",
       "      <th>TotalSteps</th>\n",
       "      <th>TotalDistance</th>\n",
       "      <th>VeryActiveDistance</th>\n",
       "      <th>ModeratelyActiveDistance</th>\n",
       "      <th>LightActiveDistance</th>\n",
       "      <th>SedentaryActiveDistance</th>\n",
       "      <th>VeryActiveMinutes</th>\n",
       "      <th>FairlyActiveMinutes</th>\n",
       "      <th>LightlyActiveMinutes</th>\n",
       "      <th>SedentaryMinutes</th>\n",
       "      <th>TotalActiveMinutes</th>\n",
       "      <th>TotalMinutes</th>\n",
       "      <th>TotalActiveHours</th>\n",
       "      <th>Calories</th>\n",
       "    </tr>\n",
       "  </thead>\n",
       "  <tbody>\n",
       "    <tr>\n",
       "      <th>count</th>\n",
       "      <td>9.400000e+02</td>\n",
       "      <td>940.000000</td>\n",
       "      <td>940.000000</td>\n",
       "      <td>940.000000</td>\n",
       "      <td>940.000000</td>\n",
       "      <td>940.000000</td>\n",
       "      <td>940.000000</td>\n",
       "      <td>940.000000</td>\n",
       "      <td>940.000000</td>\n",
       "      <td>940.000000</td>\n",
       "      <td>940.000000</td>\n",
       "      <td>940.000000</td>\n",
       "      <td>940.000000</td>\n",
       "      <td>940.000000</td>\n",
       "      <td>940.000000</td>\n",
       "    </tr>\n",
       "    <tr>\n",
       "      <th>mean</th>\n",
       "      <td>4.855407e+09</td>\n",
       "      <td>7637.910638</td>\n",
       "      <td>5.489702</td>\n",
       "      <td>1.502681</td>\n",
       "      <td>0.567543</td>\n",
       "      <td>3.340819</td>\n",
       "      <td>0.001606</td>\n",
       "      <td>21.164894</td>\n",
       "      <td>13.564894</td>\n",
       "      <td>192.812766</td>\n",
       "      <td>991.210638</td>\n",
       "      <td>227.542553</td>\n",
       "      <td>1218.753191</td>\n",
       "      <td>3.775532</td>\n",
       "      <td>2303.609574</td>\n",
       "    </tr>\n",
       "    <tr>\n",
       "      <th>std</th>\n",
       "      <td>2.424805e+09</td>\n",
       "      <td>5087.150742</td>\n",
       "      <td>3.924606</td>\n",
       "      <td>2.658941</td>\n",
       "      <td>0.883580</td>\n",
       "      <td>2.040655</td>\n",
       "      <td>0.007346</td>\n",
       "      <td>32.844803</td>\n",
       "      <td>19.987404</td>\n",
       "      <td>109.174700</td>\n",
       "      <td>301.267437</td>\n",
       "      <td>121.776307</td>\n",
       "      <td>265.931767</td>\n",
       "      <td>2.057646</td>\n",
       "      <td>718.166862</td>\n",
       "    </tr>\n",
       "    <tr>\n",
       "      <th>min</th>\n",
       "      <td>1.503960e+09</td>\n",
       "      <td>0.000000</td>\n",
       "      <td>0.000000</td>\n",
       "      <td>0.000000</td>\n",
       "      <td>0.000000</td>\n",
       "      <td>0.000000</td>\n",
       "      <td>0.000000</td>\n",
       "      <td>0.000000</td>\n",
       "      <td>0.000000</td>\n",
       "      <td>0.000000</td>\n",
       "      <td>0.000000</td>\n",
       "      <td>0.000000</td>\n",
       "      <td>2.000000</td>\n",
       "      <td>0.000000</td>\n",
       "      <td>0.000000</td>\n",
       "    </tr>\n",
       "    <tr>\n",
       "      <th>25%</th>\n",
       "      <td>2.320127e+09</td>\n",
       "      <td>3789.750000</td>\n",
       "      <td>2.620000</td>\n",
       "      <td>0.000000</td>\n",
       "      <td>0.000000</td>\n",
       "      <td>1.945000</td>\n",
       "      <td>0.000000</td>\n",
       "      <td>0.000000</td>\n",
       "      <td>0.000000</td>\n",
       "      <td>127.000000</td>\n",
       "      <td>729.750000</td>\n",
       "      <td>146.750000</td>\n",
       "      <td>989.750000</td>\n",
       "      <td>2.000000</td>\n",
       "      <td>1828.500000</td>\n",
       "    </tr>\n",
       "    <tr>\n",
       "      <th>50%</th>\n",
       "      <td>4.445115e+09</td>\n",
       "      <td>7405.500000</td>\n",
       "      <td>5.245000</td>\n",
       "      <td>0.210000</td>\n",
       "      <td>0.240000</td>\n",
       "      <td>3.365000</td>\n",
       "      <td>0.000000</td>\n",
       "      <td>4.000000</td>\n",
       "      <td>6.000000</td>\n",
       "      <td>199.000000</td>\n",
       "      <td>1057.500000</td>\n",
       "      <td>247.000000</td>\n",
       "      <td>1440.000000</td>\n",
       "      <td>4.000000</td>\n",
       "      <td>2134.000000</td>\n",
       "    </tr>\n",
       "    <tr>\n",
       "      <th>75%</th>\n",
       "      <td>6.962181e+09</td>\n",
       "      <td>10727.000000</td>\n",
       "      <td>7.712500</td>\n",
       "      <td>2.052500</td>\n",
       "      <td>0.800000</td>\n",
       "      <td>4.782500</td>\n",
       "      <td>0.000000</td>\n",
       "      <td>32.000000</td>\n",
       "      <td>19.000000</td>\n",
       "      <td>264.000000</td>\n",
       "      <td>1229.500000</td>\n",
       "      <td>317.250000</td>\n",
       "      <td>1440.000000</td>\n",
       "      <td>5.000000</td>\n",
       "      <td>2793.250000</td>\n",
       "    </tr>\n",
       "    <tr>\n",
       "      <th>max</th>\n",
       "      <td>8.877689e+09</td>\n",
       "      <td>36019.000000</td>\n",
       "      <td>28.030001</td>\n",
       "      <td>21.920000</td>\n",
       "      <td>6.480000</td>\n",
       "      <td>10.710000</td>\n",
       "      <td>0.110000</td>\n",
       "      <td>210.000000</td>\n",
       "      <td>143.000000</td>\n",
       "      <td>518.000000</td>\n",
       "      <td>1440.000000</td>\n",
       "      <td>552.000000</td>\n",
       "      <td>1440.000000</td>\n",
       "      <td>9.000000</td>\n",
       "      <td>4900.000000</td>\n",
       "    </tr>\n",
       "  </tbody>\n",
       "</table>\n",
       "</div>"
      ],
      "text/plain": [
       "                 Id    TotalSteps  TotalDistance  VeryActiveDistance  \\\n",
       "count  9.400000e+02    940.000000     940.000000          940.000000   \n",
       "mean   4.855407e+09   7637.910638       5.489702            1.502681   \n",
       "std    2.424805e+09   5087.150742       3.924606            2.658941   \n",
       "min    1.503960e+09      0.000000       0.000000            0.000000   \n",
       "25%    2.320127e+09   3789.750000       2.620000            0.000000   \n",
       "50%    4.445115e+09   7405.500000       5.245000            0.210000   \n",
       "75%    6.962181e+09  10727.000000       7.712500            2.052500   \n",
       "max    8.877689e+09  36019.000000      28.030001           21.920000   \n",
       "\n",
       "       ModeratelyActiveDistance  LightActiveDistance  SedentaryActiveDistance  \\\n",
       "count                940.000000           940.000000               940.000000   \n",
       "mean                   0.567543             3.340819                 0.001606   \n",
       "std                    0.883580             2.040655                 0.007346   \n",
       "min                    0.000000             0.000000                 0.000000   \n",
       "25%                    0.000000             1.945000                 0.000000   \n",
       "50%                    0.240000             3.365000                 0.000000   \n",
       "75%                    0.800000             4.782500                 0.000000   \n",
       "max                    6.480000            10.710000                 0.110000   \n",
       "\n",
       "       VeryActiveMinutes  FairlyActiveMinutes  LightlyActiveMinutes  \\\n",
       "count         940.000000           940.000000            940.000000   \n",
       "mean           21.164894            13.564894            192.812766   \n",
       "std            32.844803            19.987404            109.174700   \n",
       "min             0.000000             0.000000              0.000000   \n",
       "25%             0.000000             0.000000            127.000000   \n",
       "50%             4.000000             6.000000            199.000000   \n",
       "75%            32.000000            19.000000            264.000000   \n",
       "max           210.000000           143.000000            518.000000   \n",
       "\n",
       "       SedentaryMinutes  TotalActiveMinutes  TotalMinutes  TotalActiveHours  \\\n",
       "count        940.000000          940.000000    940.000000        940.000000   \n",
       "mean         991.210638          227.542553   1218.753191          3.775532   \n",
       "std          301.267437          121.776307    265.931767          2.057646   \n",
       "min            0.000000            0.000000      2.000000          0.000000   \n",
       "25%          729.750000          146.750000    989.750000          2.000000   \n",
       "50%         1057.500000          247.000000   1440.000000          4.000000   \n",
       "75%         1229.500000          317.250000   1440.000000          5.000000   \n",
       "max         1440.000000          552.000000   1440.000000          9.000000   \n",
       "\n",
       "          Calories  \n",
       "count   940.000000  \n",
       "mean   2303.609574  \n",
       "std     718.166862  \n",
       "min       0.000000  \n",
       "25%    1828.500000  \n",
       "50%    2134.000000  \n",
       "75%    2793.250000  \n",
       "max    4900.000000  "
      ]
     },
     "execution_count": 48,
     "metadata": {},
     "output_type": "execute_result"
    }
   ],
   "source": [
    "daily_activity.describe()"
   ]
  },
  {
   "cell_type": "code",
   "execution_count": 49,
   "id": "20b5dd04",
   "metadata": {
    "execution": {
     "iopub.execute_input": "2022-09-24T10:39:00.252167Z",
     "iopub.status.busy": "2022-09-24T10:39:00.251360Z",
     "iopub.status.idle": "2022-09-24T10:39:00.278916Z",
     "shell.execute_reply": "2022-09-24T10:39:00.277647Z"
    },
    "papermill": {
     "duration": 0.059406,
     "end_time": "2022-09-24T10:39:00.281366",
     "exception": false,
     "start_time": "2022-09-24T10:39:00.221960",
     "status": "completed"
    },
    "tags": []
   },
   "outputs": [
    {
     "data": {
      "text/html": [
       "<div>\n",
       "<style scoped>\n",
       "    .dataframe tbody tr th:only-of-type {\n",
       "        vertical-align: middle;\n",
       "    }\n",
       "\n",
       "    .dataframe tbody tr th {\n",
       "        vertical-align: top;\n",
       "    }\n",
       "\n",
       "    .dataframe thead th {\n",
       "        text-align: right;\n",
       "    }\n",
       "</style>\n",
       "<table border=\"1\" class=\"dataframe\">\n",
       "  <thead>\n",
       "    <tr style=\"text-align: right;\">\n",
       "      <th></th>\n",
       "      <th>Id</th>\n",
       "      <th>StepTotal</th>\n",
       "      <th>Calories</th>\n",
       "      <th>DateHour</th>\n",
       "    </tr>\n",
       "  </thead>\n",
       "  <tbody>\n",
       "    <tr>\n",
       "      <th>count</th>\n",
       "      <td>2.209900e+04</td>\n",
       "      <td>22099.000000</td>\n",
       "      <td>22099.000000</td>\n",
       "      <td>22099.000000</td>\n",
       "    </tr>\n",
       "    <tr>\n",
       "      <th>mean</th>\n",
       "      <td>4.848235e+09</td>\n",
       "      <td>320.166342</td>\n",
       "      <td>97.386760</td>\n",
       "      <td>11.415765</td>\n",
       "    </tr>\n",
       "    <tr>\n",
       "      <th>std</th>\n",
       "      <td>2.422500e+09</td>\n",
       "      <td>690.384228</td>\n",
       "      <td>60.702622</td>\n",
       "      <td>6.915140</td>\n",
       "    </tr>\n",
       "    <tr>\n",
       "      <th>min</th>\n",
       "      <td>1.503960e+09</td>\n",
       "      <td>0.000000</td>\n",
       "      <td>42.000000</td>\n",
       "      <td>0.000000</td>\n",
       "    </tr>\n",
       "    <tr>\n",
       "      <th>25%</th>\n",
       "      <td>2.320127e+09</td>\n",
       "      <td>0.000000</td>\n",
       "      <td>63.000000</td>\n",
       "      <td>5.000000</td>\n",
       "    </tr>\n",
       "    <tr>\n",
       "      <th>50%</th>\n",
       "      <td>4.445115e+09</td>\n",
       "      <td>40.000000</td>\n",
       "      <td>83.000000</td>\n",
       "      <td>11.000000</td>\n",
       "    </tr>\n",
       "    <tr>\n",
       "      <th>75%</th>\n",
       "      <td>6.962181e+09</td>\n",
       "      <td>357.000000</td>\n",
       "      <td>108.000000</td>\n",
       "      <td>17.000000</td>\n",
       "    </tr>\n",
       "    <tr>\n",
       "      <th>max</th>\n",
       "      <td>8.877689e+09</td>\n",
       "      <td>10554.000000</td>\n",
       "      <td>948.000000</td>\n",
       "      <td>23.000000</td>\n",
       "    </tr>\n",
       "  </tbody>\n",
       "</table>\n",
       "</div>"
      ],
      "text/plain": [
       "                 Id     StepTotal      Calories      DateHour\n",
       "count  2.209900e+04  22099.000000  22099.000000  22099.000000\n",
       "mean   4.848235e+09    320.166342     97.386760     11.415765\n",
       "std    2.422500e+09    690.384228     60.702622      6.915140\n",
       "min    1.503960e+09      0.000000     42.000000      0.000000\n",
       "25%    2.320127e+09      0.000000     63.000000      5.000000\n",
       "50%    4.445115e+09     40.000000     83.000000     11.000000\n",
       "75%    6.962181e+09    357.000000    108.000000     17.000000\n",
       "max    8.877689e+09  10554.000000    948.000000     23.000000"
      ]
     },
     "execution_count": 49,
     "metadata": {},
     "output_type": "execute_result"
    }
   ],
   "source": [
    "merge_df.describe()"
   ]
  },
  {
   "cell_type": "code",
   "execution_count": 50,
   "id": "44753c9f",
   "metadata": {
    "execution": {
     "iopub.execute_input": "2022-09-24T10:39:00.339519Z",
     "iopub.status.busy": "2022-09-24T10:39:00.338768Z",
     "iopub.status.idle": "2022-09-24T10:39:00.370757Z",
     "shell.execute_reply": "2022-09-24T10:39:00.369902Z"
    },
    "papermill": {
     "duration": 0.06335,
     "end_time": "2022-09-24T10:39:00.372911",
     "exception": false,
     "start_time": "2022-09-24T10:39:00.309561",
     "status": "completed"
    },
    "tags": []
   },
   "outputs": [
    {
     "data": {
      "text/html": [
       "<div>\n",
       "<style scoped>\n",
       "    .dataframe tbody tr th:only-of-type {\n",
       "        vertical-align: middle;\n",
       "    }\n",
       "\n",
       "    .dataframe tbody tr th {\n",
       "        vertical-align: top;\n",
       "    }\n",
       "\n",
       "    .dataframe thead th {\n",
       "        text-align: right;\n",
       "    }\n",
       "</style>\n",
       "<table border=\"1\" class=\"dataframe\">\n",
       "  <thead>\n",
       "    <tr style=\"text-align: right;\">\n",
       "      <th></th>\n",
       "      <th>Id</th>\n",
       "      <th>StepTotal</th>\n",
       "      <th>Calories</th>\n",
       "      <th>DateHour</th>\n",
       "      <th>TotalSleepRecords</th>\n",
       "      <th>TotalMinutesAsleep</th>\n",
       "      <th>TotalTimeInBed</th>\n",
       "    </tr>\n",
       "  </thead>\n",
       "  <tbody>\n",
       "    <tr>\n",
       "      <th>count</th>\n",
       "      <td>9.771000e+03</td>\n",
       "      <td>9771.000000</td>\n",
       "      <td>9771.000000</td>\n",
       "      <td>9771.000000</td>\n",
       "      <td>9771.000000</td>\n",
       "      <td>9771.000000</td>\n",
       "      <td>9771.000000</td>\n",
       "    </tr>\n",
       "    <tr>\n",
       "      <th>mean</th>\n",
       "      <td>5.000942e+09</td>\n",
       "      <td>358.765838</td>\n",
       "      <td>100.978917</td>\n",
       "      <td>11.422884</td>\n",
       "      <td>1.120356</td>\n",
       "      <td>419.350322</td>\n",
       "      <td>458.607921</td>\n",
       "    </tr>\n",
       "    <tr>\n",
       "      <th>std</th>\n",
       "      <td>2.061194e+09</td>\n",
       "      <td>652.628865</td>\n",
       "      <td>63.440338</td>\n",
       "      <td>6.921320</td>\n",
       "      <td>0.347304</td>\n",
       "      <td>118.789342</td>\n",
       "      <td>127.597596</td>\n",
       "    </tr>\n",
       "    <tr>\n",
       "      <th>min</th>\n",
       "      <td>1.503960e+09</td>\n",
       "      <td>0.000000</td>\n",
       "      <td>42.000000</td>\n",
       "      <td>0.000000</td>\n",
       "      <td>1.000000</td>\n",
       "      <td>58.000000</td>\n",
       "      <td>61.000000</td>\n",
       "    </tr>\n",
       "    <tr>\n",
       "      <th>25%</th>\n",
       "      <td>3.977334e+09</td>\n",
       "      <td>0.000000</td>\n",
       "      <td>63.000000</td>\n",
       "      <td>5.000000</td>\n",
       "      <td>1.000000</td>\n",
       "      <td>361.000000</td>\n",
       "      <td>402.000000</td>\n",
       "    </tr>\n",
       "    <tr>\n",
       "      <th>50%</th>\n",
       "      <td>4.702922e+09</td>\n",
       "      <td>107.000000</td>\n",
       "      <td>84.000000</td>\n",
       "      <td>11.000000</td>\n",
       "      <td>1.000000</td>\n",
       "      <td>433.000000</td>\n",
       "      <td>463.000000</td>\n",
       "    </tr>\n",
       "    <tr>\n",
       "      <th>75%</th>\n",
       "      <td>6.962181e+09</td>\n",
       "      <td>420.000000</td>\n",
       "      <td>117.000000</td>\n",
       "      <td>17.000000</td>\n",
       "      <td>1.000000</td>\n",
       "      <td>490.000000</td>\n",
       "      <td>527.000000</td>\n",
       "    </tr>\n",
       "    <tr>\n",
       "      <th>max</th>\n",
       "      <td>8.792010e+09</td>\n",
       "      <td>6357.000000</td>\n",
       "      <td>669.000000</td>\n",
       "      <td>23.000000</td>\n",
       "      <td>3.000000</td>\n",
       "      <td>796.000000</td>\n",
       "      <td>961.000000</td>\n",
       "    </tr>\n",
       "  </tbody>\n",
       "</table>\n",
       "</div>"
      ],
      "text/plain": [
       "                 Id    StepTotal     Calories     DateHour  TotalSleepRecords  \\\n",
       "count  9.771000e+03  9771.000000  9771.000000  9771.000000        9771.000000   \n",
       "mean   5.000942e+09   358.765838   100.978917    11.422884           1.120356   \n",
       "std    2.061194e+09   652.628865    63.440338     6.921320           0.347304   \n",
       "min    1.503960e+09     0.000000    42.000000     0.000000           1.000000   \n",
       "25%    3.977334e+09     0.000000    63.000000     5.000000           1.000000   \n",
       "50%    4.702922e+09   107.000000    84.000000    11.000000           1.000000   \n",
       "75%    6.962181e+09   420.000000   117.000000    17.000000           1.000000   \n",
       "max    8.792010e+09  6357.000000   669.000000    23.000000           3.000000   \n",
       "\n",
       "       TotalMinutesAsleep  TotalTimeInBed  \n",
       "count         9771.000000     9771.000000  \n",
       "mean           419.350322      458.607921  \n",
       "std            118.789342      127.597596  \n",
       "min             58.000000       61.000000  \n",
       "25%            361.000000      402.000000  \n",
       "50%            433.000000      463.000000  \n",
       "75%            490.000000      527.000000  \n",
       "max            796.000000      961.000000  "
      ]
     },
     "execution_count": 50,
     "metadata": {},
     "output_type": "execute_result"
    }
   ],
   "source": [
    "merge_df2.describe()"
   ]
  },
  {
   "cell_type": "markdown",
   "id": "17aecee8",
   "metadata": {
    "papermill": {
     "duration": 0.027729,
     "end_time": "2022-09-24T10:39:00.428759",
     "exception": false,
     "start_time": "2022-09-24T10:39:00.401030",
     "status": "completed"
    },
    "tags": []
   },
   "source": [
    "#### **<span style=\"color:#fe8a78\">Some Key Findings</span>**\n",
    "1. Out of 1218 Total minutes, 991 minutes were spent inactive (Sedentary). Approximately 228 active minutes were spent. \n",
    "2. An average of 7638 total steps were taken by the users daily.\n",
    "3. There is also an average of 2304 calories burnt daily.\n",
    "4. Also, there is a positive correlation between steps taken and calories burnt.\n",
    "\n",
    "## **<span style=\"color:#fe8a78\">5. SHARE</span>**\n",
    "Now is time to do some data visualization. \n",
    "\n",
    "<h4 style=\"background-color:#fe8a78;color:white;border-radius: 8px; padding:12px\">5.1. CORRELATION MATRIX</h4>\n",
    "\n",
    "Let see the correlation between TotalDistance --TotalSteps --SedentaryMinutes --TotalActiveMinutes --Calories"
   ]
  },
  {
   "cell_type": "code",
   "execution_count": 51,
   "id": "6c952a04",
   "metadata": {
    "execution": {
     "iopub.execute_input": "2022-09-24T10:39:00.486783Z",
     "iopub.status.busy": "2022-09-24T10:39:00.486006Z",
     "iopub.status.idle": "2022-09-24T10:39:00.863169Z",
     "shell.execute_reply": "2022-09-24T10:39:00.862243Z"
    },
    "papermill": {
     "duration": 0.409242,
     "end_time": "2022-09-24T10:39:00.865853",
     "exception": false,
     "start_time": "2022-09-24T10:39:00.456611",
     "status": "completed"
    },
    "tags": []
   },
   "outputs": [
    {
     "data": {
      "image/png": "[encoded data removed]",
      "text/plain": [
       "<Figure size 720x432 with 2 Axes>"
      ]
     },
     "metadata": {
      "needs_background": "light"
     },
     "output_type": "display_data"
    }
   ],
   "source": [
    "Corr1 = [\"TotalDistance\", \"TotalSteps\", \n",
    "         \"SedentaryMinutes\", \"TotalActiveMinutes\", \"Calories\"]\n",
    "\n",
    "fig, ax = plt.subplots(figsize=(10, 6))\n",
    "ax = sns.heatmap(daily_activity[Corr1].corr(), \n",
    "                 annot = True, \n",
    "                 fmt = \".2f\", \n",
    "                 linewidths=0.5,\n",
    "                 cmap=\"icefire\")\n",
    "\n",
    "ax.set_title('Correlation Matrix');"
   ]
  },
  {
   "cell_type": "markdown",
   "id": "f8182708",
   "metadata": {
    "papermill": {
     "duration": 0.028361,
     "end_time": "2022-09-24T10:39:00.923199",
     "exception": false,
     "start_time": "2022-09-24T10:39:00.894838",
     "status": "completed"
    },
    "tags": []
   },
   "source": [
    "* There is a positive correlation between `Calories` and `TotalActiveMinutes`, `TotalSteps`, and `TotalDistance`. \n",
    "* There is a negative correlation between `Calories` and `SedentaryMinutes`. \n",
    "\n",
    "<h4 style=\"background-color:#fe8a78;color:white;border-radius: 8px; padding:12px\">5.2. COMPARING TOTAL STEPS AND SEDENTARY MINUTES TO CALORIES</h4>"
   ]
  },
  {
   "cell_type": "code",
   "execution_count": 52,
   "id": "1518a5b6",
   "metadata": {
    "execution": {
     "iopub.execute_input": "2022-09-24T10:39:00.982997Z",
     "iopub.status.busy": "2022-09-24T10:39:00.982560Z",
     "iopub.status.idle": "2022-09-24T10:39:01.369244Z",
     "shell.execute_reply": "2022-09-24T10:39:01.368221Z"
    },
    "papermill": {
     "duration": 0.419711,
     "end_time": "2022-09-24T10:39:01.371866",
     "exception": false,
     "start_time": "2022-09-24T10:39:00.952155",
     "status": "completed"
    },
    "tags": []
   },
   "outputs": [
    {
     "name": "stderr",
     "output_type": "stream",
     "text": [
      "/opt/anaconda3/envs/analytics-env/lib/python3.9/site-packages/matplotlib/collections.py:1098: UserWarning: Collection without array used. Make sure to specify the values to be colormapped via the `c` argument.\n",
      "  warnings.warn(\"Collection without array used. Make sure to \"\n"
     ]
    },
    {
     "data": {
      "image/png": "[encoded data removed]",
      "text/plain": [
       "<Figure size 720x1152 with 2 Axes>"
      ]
     },
     "metadata": {
      "needs_background": "light"
     },
     "output_type": "display_data"
    }
   ],
   "source": [
    "fig, (ax0, ax1) = plt.subplots(nrows=2,\n",
    "                               ncols=1,\n",
    "                               figsize=(10, 16),\n",
    "                               sharex=True)\n",
    "\n",
    "scatter = ax0.scatter(x=daily_activity[\"Calories\"],\n",
    "                     y=daily_activity[\"TotalSteps\"],\n",
    "                     color=\"#fe8a78\")\n",
    "\n",
    "ax0.set(title=\"Calories Burnt By Total Steps\",\n",
    "       ylabel=\"Total Steps\")\n",
    "\n",
    "ax0.legend(*scatter.legend_elements(), title=None)\n",
    "\n",
    "scatter = ax1.scatter(x=daily_activity[\"Calories\"],\n",
    "                     y=daily_activity[\"SedentaryMinutes\"],\n",
    "                     color=\"#fe8a78\")\n",
    "ax1.set(title=\"Sedentary Minutes and Calories\",\n",
    "       ylabel=\"Sedentary Minutes\")\n",
    "\n",
    "ax1.legend(*scatter.legend_elements(), title=None);"
   ]
  },
  {
   "cell_type": "markdown",
   "id": "8c7dddf1",
   "metadata": {
    "papermill": {
     "duration": 0.029771,
     "end_time": "2022-09-24T10:39:01.431989",
     "exception": false,
     "start_time": "2022-09-24T10:39:01.402218",
     "status": "completed"
    },
    "tags": []
   },
   "source": [
    "* This scatterplot gives us a clearer view of the correlation between `TotalSteps` and `SedentaryMinutes` to `Calories`.\n",
    "* The more the steps taken, the more the calories burnt. On the other hand, the more the Sedentary minutes, the less the calories burnt. \n",
    "\n",
    "<h4 style=\"background-color:#fe8a78;color:white;border-radius: 8px; padding:12px\">5.3. SEDENTARY MINUTES VS TOTAL ACTIVE MINUTES</h4>"
   ]
  },
  {
   "cell_type": "code",
   "execution_count": 53,
   "id": "6ebed123",
   "metadata": {
    "execution": {
     "iopub.execute_input": "2022-09-24T10:39:01.495069Z",
     "iopub.status.busy": "2022-09-24T10:39:01.494364Z",
     "iopub.status.idle": "2022-09-24T10:39:01.650506Z",
     "shell.execute_reply": "2022-09-24T10:39:01.649205Z"
    },
    "papermill": {
     "duration": 0.190876,
     "end_time": "2022-09-24T10:39:01.653034",
     "exception": false,
     "start_time": "2022-09-24T10:39:01.462158",
     "status": "completed"
    },
    "tags": []
   },
   "outputs": [
    {
     "data": {
      "image/png": "[encoded data removed]",
      "text/plain": [
       "<Figure size 720x576 with 1 Axes>"
      ]
     },
     "metadata": {
      "needs_background": "light"
     },
     "output_type": "display_data"
    }
   ],
   "source": [
    "fig, ax = plt.subplots(figsize=(10,8))\n",
    "x = np.array([\"Sedentary Minutes\", \"TotalActiveMinutes\"])\n",
    "y = np.array([daily_activity[\"SedentaryMinutes\"].mean(),\n",
    "              daily_activity[\"TotalActiveMinutes\"].mean()])\n",
    "\n",
    "plt.title(\"Sedentary Minutes Vs Total Active Minutes\")\n",
    "plt.bar(x, y, width = 0.8, color = \"#fe8a78\")\n",
    "plt.show()             "
   ]
  },
  {
   "cell_type": "markdown",
   "id": "f556a0e6",
   "metadata": {
    "papermill": {
     "duration": 0.030353,
     "end_time": "2022-09-24T10:39:01.713779",
     "exception": false,
     "start_time": "2022-09-24T10:39:01.683426",
     "status": "completed"
    },
    "tags": []
   },
   "source": [
    "* There is a huge gap between `SedentaryMinutes` and `TotalActiveMinutes`. \n",
    "* It is obvious that the users spend more time sitting or lying down, than they do being active. This can also say something about their occupation or lifestyle. Mostly likely they belong to the working class that spends countless hours behind their desk."
   ]
  },
  {
   "cell_type": "markdown",
   "id": "b1b633be",
   "metadata": {
    "papermill": {
     "duration": 0.030108,
     "end_time": "2022-09-24T10:39:01.774197",
     "exception": false,
     "start_time": "2022-09-24T10:39:01.744089",
     "status": "completed"
    },
    "tags": []
   },
   "source": [
    "<h4 style=\"background-color:#fe8a78;color:white;border-radius: 8px; padding:12px\">5.4. TOTAL CALORIES BURNT BY DAY OF THE WEEK</h4>"
   ]
  },
  {
   "cell_type": "code",
   "execution_count": 54,
   "id": "6b74457f",
   "metadata": {
    "execution": {
     "iopub.execute_input": "2022-09-24T10:39:01.838535Z",
     "iopub.status.busy": "2022-09-24T10:39:01.838091Z",
     "iopub.status.idle": "2022-09-24T10:39:39.489177Z",
     "shell.execute_reply": "2022-09-24T10:39:39.487771Z"
    },
    "papermill": {
     "duration": 37.713294,
     "end_time": "2022-09-24T10:39:39.518282",
     "exception": false,
     "start_time": "2022-09-24T10:39:01.804988",
     "status": "completed"
    },
    "tags": []
   },
   "outputs": [
    {
     "data": {
      "image/png": "[encoded data removed]",
      "text/plain": [
       "<Figure size 720x576 with 1 Axes>"
      ]
     },
     "metadata": {
      "needs_background": "light"
     },
     "output_type": "display_data"
    }
   ],
   "source": [
    "fig, ax = plt.subplots(figsize=(10,8))\n",
    "plt.bar(merge_df.WeekDay, merge_df.Calories, color = \"#fe8a78\")\n",
    "plt.xlabel(\"Week Day\")\n",
    "plt.ylabel(\"Calories Burned\")\n",
    "plt.title(\"Calories Burned by Day of the Week\")\n",
    "plt.grid()\n",
    "\n",
    "plt.show()"
   ]
  },
  {
   "cell_type": "markdown",
   "id": "272a1cd4",
   "metadata": {
    "papermill": {
     "duration": 0.029889,
     "end_time": "2022-09-24T10:39:39.578471",
     "exception": false,
     "start_time": "2022-09-24T10:39:39.548582",
     "status": "completed"
    },
    "tags": []
   },
   "source": [
    "* This plot shows that the most calories were burnt on **<span style=\"color:#fe8a78\">Saturday</span>** and that the least calories were burnt on **<span style=\"color:#fe8a78\">Monday</span>**. \n",
    "* Saturday is quite understandable being that it is a weekend and the users probably have enough time to exercise. Monday, on the other hand, is quite strange, given that is seen to be one of the busiest days at work for most people.\n",
    "* The first thing that came to mind is the fact that the users could probably be very busy behind their work desks that they barely have enough time to exercise or take a walk. \n",
    "\n",
    "\n",
    "<h4 style=\"background-color:#fe8a78;color:white;border-radius: 8px; padding:12px\">5.5. TOTAL STEPS BY DAY OF THE WEEK</h4>\n",
    "Next, I checked to see the relationship between Total Steps taken by Day of the Week."
   ]
  },
  {
   "cell_type": "code",
   "execution_count": 55,
   "id": "7793fd4a",
   "metadata": {
    "execution": {
     "iopub.execute_input": "2022-09-24T10:39:39.641259Z",
     "iopub.status.busy": "2022-09-24T10:39:39.640789Z",
     "iopub.status.idle": "2022-09-24T10:39:41.348944Z",
     "shell.execute_reply": "2022-09-24T10:39:41.347897Z"
    },
    "papermill": {
     "duration": 1.742561,
     "end_time": "2022-09-24T10:39:41.351365",
     "exception": false,
     "start_time": "2022-09-24T10:39:39.608804",
     "status": "completed"
    },
    "tags": []
   },
   "outputs": [
    {
     "data": {
      "image/png": "[encoded data removed]",
      "text/plain": [
       "<Figure size 720x576 with 1 Axes>"
      ]
     },
     "metadata": {
      "needs_background": "light"
     },
     "output_type": "display_data"
    }
   ],
   "source": [
    "fig, ax = plt.subplots(figsize=(10,8))\n",
    "plt.bar(daily_activity.WeekDay, daily_activity.TotalSteps, \n",
    "        color = \"#fe8a78\")\n",
    "plt.xlabel(\"Week Day\")\n",
    "plt.ylabel(\"Total Steps Taken\")\n",
    "plt.title(\"Total Steps Taken by Day of the Week\")\n",
    "plt.grid()\n",
    "plt.show()"
   ]
  },
  {
   "cell_type": "markdown",
   "id": "9951af2b",
   "metadata": {
    "papermill": {
     "duration": 0.03081,
     "end_time": "2022-09-24T10:39:41.413403",
     "exception": false,
     "start_time": "2022-09-24T10:39:41.382593",
     "status": "completed"
    },
    "tags": []
   },
   "source": [
    "* This gives us the true picture of why Monday recorded the least Calories burnt. Here we see that the least steps were taken by the users on Monday compared to the other days of the week. Meaning they probably spent more hours sitting behind their work desks.\n",
    "* It also gives us a clue about the profile of the users in the survey. They are most likely working class individuals. \n",
    "* The most steps were taken on Saturday and Sunday, which makes sense. \n",
    "\n",
    "<h4 style=\"background-color:#fe8a78;color:white;border-radius: 8px; padding:12px\">5.6. TOTAL TIME ASLEEP BY DAY OF THE WEEK</h4>"
   ]
  },
  {
   "cell_type": "code",
   "execution_count": 56,
   "id": "eaf65a60",
   "metadata": {
    "execution": {
     "iopub.execute_input": "2022-09-24T10:39:41.477285Z",
     "iopub.status.busy": "2022-09-24T10:39:41.476857Z",
     "iopub.status.idle": "2022-09-24T10:39:58.669701Z",
     "shell.execute_reply": "2022-09-24T10:39:58.668770Z"
    },
    "papermill": {
     "duration": 17.227714,
     "end_time": "2022-09-24T10:39:58.671974",
     "exception": false,
     "start_time": "2022-09-24T10:39:41.444260",
     "status": "completed"
    },
    "tags": []
   },
   "outputs": [
    {
     "data": {
      "image/png": "[encoded data removed]",
      "text/plain": [
       "<Figure size 720x576 with 1 Axes>"
      ]
     },
     "metadata": {
      "needs_background": "light"
     },
     "output_type": "display_data"
    }
   ],
   "source": [
    "fig, ax = plt.subplots(figsize=(10,8))\n",
    "x = merge_df2[\"WeekDay\"]\n",
    "y = merge_df2[\"TotalMinutesAsleep\"]\n",
    "\n",
    "plt.title(\"Total Time Asleep By Day of The Week\")\n",
    "plt.bar(x, y, width = 0.8, color = \"#fe8a78\")\n",
    "plt.show() "
   ]
  },
  {
   "cell_type": "markdown",
   "id": "0350221c",
   "metadata": {
    "papermill": {
     "duration": 0.031625,
     "end_time": "2022-09-24T10:39:58.736595",
     "exception": false,
     "start_time": "2022-09-24T10:39:58.704970",
     "status": "completed"
    },
    "tags": []
   },
   "source": [
    "* This tells us that the least amount of sleep was taken on `Thursday` and the most amount of sleep was taken on Monday. Usually people tend to sleep longer when they are more exhausted. \n",
    "* However, we can also see that the users also slept longer hours on Saturday, Tuesday, and Sunday, which were also the days when they lost the most calories. \n",
    "\n",
    "<h4 style=\"background-color:#fe8a78;color:white;border-radius: 8px; padding:12px\">5.7. THE MOST AND LEAST ACTIVE HOURS OF THE DAY</h4>\n",
    "\n",
    "Finally I checked to see the least active hours of the day"
   ]
  },
  {
   "cell_type": "code",
   "execution_count": 57,
   "id": "f11311d1",
   "metadata": {
    "execution": {
     "iopub.execute_input": "2022-09-24T10:39:58.804066Z",
     "iopub.status.busy": "2022-09-24T10:39:58.803312Z",
     "iopub.status.idle": "2022-09-24T10:39:59.110143Z",
     "shell.execute_reply": "2022-09-24T10:39:59.108859Z"
    },
    "papermill": {
     "duration": 0.343546,
     "end_time": "2022-09-24T10:39:59.112613",
     "exception": false,
     "start_time": "2022-09-24T10:39:58.769067",
     "status": "completed"
    },
    "tags": []
   },
   "outputs": [
    {
     "data": {
      "image/png": "[encoded data removed]",
      "text/plain": [
       "<Figure size 720x576 with 1 Axes>"
      ]
     },
     "metadata": {
      "needs_background": "light"
     },
     "output_type": "display_data"
    }
   ],
   "source": [
    "#Least active time of the day for targeted Ads\n",
    "\n",
    "fig, axs = plt.subplots(figsize=(10, 8))\n",
    "merge_df.groupby(merge_df['DateHour'])['StepTotal'].mean().plot(kind='bar', rot=0, ax=axs, color='#fe8a78', title='The Most and Least Active Hours of The Day')\n",
    "plt.xlabel(\"Hour of the Day\")\n",
    "plt.ylabel(\"Total Steps\")\n",
    "plt.show()"
   ]
  },
  {
   "cell_type": "markdown",
   "id": "619819bf",
   "metadata": {
    "papermill": {
     "duration": 0.031466,
     "end_time": "2022-09-24T10:39:59.175853",
     "exception": false,
     "start_time": "2022-09-24T10:39:59.144387",
     "status": "completed"
    },
    "tags": []
   },
   "source": [
    "* Here we can see that their day starts getting really busy from 8 in the morning all the way to 7 in the evening. The least active hours of the day are between 8 p.m and 10 p.m. These are probably the best hours to reach them with targetted ads.\n",
    "\n",
    "\n",
    "## **<span style=\"color:#fe8a78\">6. ACT</span>**\n",
    "<h4 style=\"background-color:#fe8a78;color:white;border-radius: 8px; padding:12px\">6.1. RECOMMENDATION</h4>\n",
    "\n",
    "1.\t**<span style=\"color:#fe8a78\">Promotion</span>**: The data we explored revealed that consumers are less active between 8 and 10 p.m., shortly before they retire for the night. This is the ideal moment for Bellabeat to schedule their advertising initiatives for optimal results. Google AdWords, for example, allows internet advertisers to schedule when their adverts are shown with its ad scheduling function. Such functions can allow Bellabeat to effectively reach its consumers. Scheduling adverts will also help Bellabeat save money on advertisements.\n",
    "2.\t**<span style=\"color:#fe8a78\">Retention</span>**: The objective of any membership program is not limited to generating a regular stream of new members. Retention is crucial! According to an online **[report](https://themembershipguys.s3-us-west-2.amazonaws.com/Online+Membership+Industry+Report+-+2019.pdf)**, eighty percent of customers quit their subscription to a member site within the first two years of joining the site.  For Bellabeat to retain its consumers, it must focus on personalized contents that offer value. For instance, the data revealed a positive correlation between the number of steps walked and the number of calories burnt. The more steps a person takes each day, the more calories they burn.\n",
    "* The data also revealed that one of the issues people have is that they are hardly able to reach the minimum 10,000 steps per day **[recommended](https://www.healthline.com/health/how-many-steps-a-day#How-many-steps-should-you-take-a-day?)** for healthy adults. To address this issue, Bellabeat can provide fascinating tips to assist its consumers achieve their daily objectives. This may be published periodically on its website. Additionally, it can create engaging challenges to motivate its users to walk regularly. This will not only drive engagement, but also provide enormous value to them. \n",
    "* I also noted that people spend far more time being inactive than being active. Inactivity is related with several health problems, including obesity, heart disease, stroke, etc. Bellabeat can create explainer videos and blogs to educate its users about the negative impacts of sedentary lifestyle and how to prevent them. This is also a fantastic opportunity to promote its other products, such as the Bellabeat app, which provides users with lifestyle-related health data, and Time, which links to the Bellabeat app to offer users with insights on their daily wellbeing."
   ]
  }
 ],
 "metadata": {
  "kernelspec": {
   "display_name": "Python 3 (ipykernel)",
   "language": "python",
   "name": "python3"
  },
  "language_info": {
   "codemirror_mode": {
    "name": "ipython",
    "version": 3
   },
   "file_extension": ".py",
   "mimetype": "text/x-python",
   "name": "python",
   "nbconvert_exporter": "python",
   "pygments_lexer": "ipython3",
   "version": "3.9.13"
  },
  "papermill": {
   "default_parameters": {},
   "duration": 85.415735,
   "end_time": "2022-09-24T10:40:00.532911",
   "environment_variables": {},
   "exception": null,
   "input_path": "__notebook__.ipynb",
   "output_path": "__notebook__.ipynb",
   "parameters": {},
   "start_time": "2022-09-24T10:38:35.117176",
   "version": "2.3.4"
  }
 },
 "nbformat": 4,
 "nbformat_minor": 5
}
